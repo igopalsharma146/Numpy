{
 "cells": [
  {
   "cell_type": "markdown",
   "id": "f1f96add-c24f-44bf-b6e4-3502a7cba474",
   "metadata": {},
   "source": [
    "Arithmetic function"
   ]
  },
  {
   "cell_type": "code",
   "execution_count": 1,
   "id": "5b7d95b7-b1a7-46b8-9cd1-529a91f5692b",
   "metadata": {},
   "outputs": [
    {
     "name": "stdout",
     "output_type": "stream",
     "text": [
      "min : 1\n",
      "max : 6\n"
     ]
    }
   ],
   "source": [
    "import numpy as np\n",
    "var=np.array([1,2,3,5,6])\n",
    "print(\"min :\",np.min(var))\n",
    "print(\"max :\",np.max(var))"
   ]
  },
  {
   "cell_type": "code",
   "execution_count": 6,
   "id": "37c6b903-d8b2-4b5d-8943-c64e5bef3f5a",
   "metadata": {},
   "outputs": [
    {
     "name": "stdout",
     "output_type": "stream",
     "text": [
      "min : 1 0\n",
      "max : 6 4\n",
      "Square root : [1.         1.41421356 1.73205081 2.23606798 2.44948974]\n"
     ]
    }
   ],
   "source": [
    "#finding position\n",
    "var=np.array([1,2,3,5,6])\n",
    "print(\"min :\",np.min(var),np.argmin(var))\n",
    "print(\"max :\",np.max(var),np.argmax(var))\n",
    "print(\"Square root :\",np.sqrt(var))"
   ]
  },
  {
   "cell_type": "code",
   "execution_count": 5,
   "id": "d7199f0b-a2e5-4af9-af89-4000d7caf01c",
   "metadata": {},
   "outputs": [
    {
     "name": "stdout",
     "output_type": "stream",
     "text": [
      "[2 1 3]\n",
      "[1 5]\n"
     ]
    }
   ],
   "source": [
    "\n",
    "var1=np.array([[2,1,3],[9,5,6]])\n",
    "print(np.min(var1,axis=0)) #axis=0 //axis 0 colomn ke along work karti hai.\n",
    "print(np.min(var1,axis=1)) #axis=1 //axis 1 colomn ke along work karti hai."
   ]
  },
  {
   "cell_type": "code",
   "execution_count": 10,
   "id": "9c0f8c37-d332-4a55-87ba-ee52a02be358",
   "metadata": {},
   "outputs": [
    {
     "name": "stdout",
     "output_type": "stream",
     "text": [
      "[0.84147098 0.90929743 0.14112001 0.98935825]\n",
      "[ 0.54030231 -0.41614684 -0.9899925  -0.14550003]\n",
      "[ 1  3  6 14]\n"
     ]
    }
   ],
   "source": [
    "var2=np.array([1,2,3,8])\n",
    "print(np.sin(var2))\n",
    "print(np.cos(var2))\n",
    "print(np.cumsum(var2))"
   ]
  },
  {
   "cell_type": "code",
   "execution_count": null,
   "id": "8720ee44-b937-44df-ae09-1956833a4657",
   "metadata": {},
   "outputs": [],
   "source": []
  }
 ],
 "metadata": {
  "kernelspec": {
   "display_name": "Python 3 (ipykernel)",
   "language": "python",
   "name": "python3"
  },
  "language_info": {
   "codemirror_mode": {
    "name": "ipython",
    "version": 3
   },
   "file_extension": ".py",
   "mimetype": "text/x-python",
   "name": "python",
   "nbconvert_exporter": "python",
   "pygments_lexer": "ipython3",
   "version": "3.12.2"
  }
 },
 "nbformat": 4,
 "nbformat_minor": 5
}
