{
 "cells": [
  {
   "cell_type": "code",
   "execution_count": 1,
   "id": "06c99f96-8548-4aa1-a2ea-203863c00ba2",
   "metadata": {},
   "outputs": [
    {
     "name": "stdout",
     "output_type": "stream",
     "text": [
      "[3.  4.2 5.  6.  2. ]\n",
      "<class 'numpy.ndarray'>\n",
      "[4, 3, 5, 6, 3]\n",
      "<class 'list'>\n"
     ]
    }
   ],
   "source": [
    "#difference b/w numpy array and python list\n",
    "import numpy as np\n",
    "x=np.array([3,4,5,6,2])\n",
    "print(x)\n",
    "print(type(x))\n",
    "\n",
    "#list ke under hame comma seprated value milti hai but numpy array ke under hame comma seprated value nahi milti hai.\n",
    "y=[4,3,5,6,3]\n",
    "print(y)\n",
    "print(type(y))"
   ]
  },
  {
   "cell_type": "code",
   "execution_count": 2,
   "id": "a37050c6-c834-4829-9187-61b6f0fb0258",
   "metadata": {},
   "outputs": [
    {
     "name": "stdout",
     "output_type": "stream",
     "text": [
      "[3.  4.  5.  6.  2.2]\n",
      "['3' '4' '5' '6' '2']\n",
      "<class 'numpy.ndarray'>\n"
     ]
    }
   ],
   "source": [
    "import numpy as np\n",
    "#if we are give the float value in our array , then our array convert the all the values in float\n",
    "x=np.array([3,4,5,6,2.2])\n",
    "#same as if we are give the string value the our array convert the all values in string.\n",
    "y=np.array([3,4,\"5\",6,2])\n",
    "print(x)\n",
    "print(y)\n",
    "print(type(x))\n"
   ]
  },
  {
   "cell_type": "code",
   "execution_count": null,
   "id": "cd56db67-d627-4353-be7b-782a21603aa3",
   "metadata": {},
   "outputs": [],
   "source": []
  }
 ],
 "metadata": {
  "kernelspec": {
   "display_name": "Python 3 (ipykernel)",
   "language": "python",
   "name": "python3"
  },
  "language_info": {
   "codemirror_mode": {
    "name": "ipython",
    "version": 3
   },
   "file_extension": ".py",
   "mimetype": "text/x-python",
   "name": "python",
   "nbconvert_exporter": "python",
   "pygments_lexer": "ipython3",
   "version": "3.12.2"
  }
 },
 "nbformat": 4,
 "nbformat_minor": 5
}
