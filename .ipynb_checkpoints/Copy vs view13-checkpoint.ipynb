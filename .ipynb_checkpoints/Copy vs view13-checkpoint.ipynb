{
 "cells": [
  {
   "cell_type": "markdown",
   "id": "2a035c9d-fdbc-42fd-af38-a10742cd981d",
   "metadata": {},
   "source": [
    "Copy vs view"
   ]
  },
  {
   "cell_type": "code",
   "execution_count": 2,
   "id": "980cdf31-b52b-4532-a48c-a79ba0905e0f",
   "metadata": {},
   "outputs": [
    {
     "name": "stdout",
     "output_type": "stream",
     "text": [
      "var : [1 2 3 4]\n",
      "copy : [1 2 3 4]\n"
     ]
    }
   ],
   "source": [
    "import numpy as np\n",
    "var=np.array([1,2,3,4])\n",
    "co=var.copy()\n",
    "print(\"var :\",var)\n",
    "print(\"copy :\",co)"
   ]
  },
  {
   "cell_type": "code",
   "execution_count": 5,
   "id": "c66ec60f-879d-4860-b2f1-4be592e2fba7",
   "metadata": {},
   "outputs": [
    {
     "name": "stdout",
     "output_type": "stream",
     "text": [
      "var : [ 1 40  3  4]\n",
      "copy : [1 2 3 4]\n"
     ]
    }
   ],
   "source": [
    "#agar hum array ke element ko change karte hai, to copy wale array me koi change nahi hota hai\n",
    "import numpy as np\n",
    "var=np.array([1,2,3,4])\n",
    "co=var.copy()\n",
    "var[1]=40\n",
    "print(\"var :\",var)\n",
    "print(\"copy :\",co)"
   ]
  },
  {
   "cell_type": "code",
   "execution_count": 3,
   "id": "13b24a86-97c7-4ca0-bf56-09aefed0574b",
   "metadata": {},
   "outputs": [
    {
     "name": "stdout",
     "output_type": "stream",
     "text": [
      "x : [9 8 6 4]\n",
      "view : [9 8 6 4]\n"
     ]
    }
   ],
   "source": [
    "x=np.array([9,8,6,4])\n",
    "vi=x.view()\n",
    "print(\"x :\",x)\n",
    "print(\"view :\",vi)"
   ]
  },
  {
   "cell_type": "code",
   "execution_count": 7,
   "id": "001d581d-0152-4675-8786-1d31004ba45d",
   "metadata": {},
   "outputs": [
    {
     "name": "stdout",
     "output_type": "stream",
     "text": [
      "x : [9 3 6 4]\n",
      "view : [9 3 6 4]\n"
     ]
    }
   ],
   "source": [
    "#view mw agar hum original data ko change karte hai , to view wala data bhi change ho jata hai.\n",
    "x=np.array([9,8,6,4])\n",
    "vi=x.view()\n",
    "x[1]=3\n",
    "print(\"x :\",x)\n",
    "print(\"view :\",vi)"
   ]
  },
  {
   "cell_type": "code",
   "execution_count": null,
   "id": "95378159-1cd6-48a7-a5d6-1f16c21bcc0f",
   "metadata": {},
   "outputs": [],
   "source": []
  }
 ],
 "metadata": {
  "kernelspec": {
   "display_name": "Python 3 (ipykernel)",
   "language": "python",
   "name": "python3"
  },
  "language_info": {
   "codemirror_mode": {
    "name": "ipython",
    "version": 3
   },
   "file_extension": ".py",
   "mimetype": "text/x-python",
   "name": "python",
   "nbconvert_exporter": "python",
   "pygments_lexer": "ipython3",
   "version": "3.12.2"
  },
  "widgets": {
   "application/vnd.jupyter.widget-state+json": {
    "state": {},
    "version_major": 2,
    "version_minor": 0
   }
  }
 },
 "nbformat": 4,
 "nbformat_minor": 5
}
