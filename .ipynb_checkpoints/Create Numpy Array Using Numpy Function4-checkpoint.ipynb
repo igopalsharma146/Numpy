{
 "cells": [
  {
   "cell_type": "code",
   "execution_count": null,
   "id": "c6b24d9c-dc8f-4474-8e85-341ce4b4eda8",
   "metadata": {},
   "outputs": [],
   "source": [
    "# Create Numpy Array Using Numpy Functions\n"
   ]
  },
  {
   "cell_type": "code",
   "execution_count": 1,
   "id": "6d6cb6ab-cde7-459e-87ad-1f2625aa30dc",
   "metadata": {},
   "outputs": [
    {
     "name": "stdout",
     "output_type": "stream",
     "text": [
      "[0. 0. 0. 0.]\n"
     ]
    }
   ],
   "source": [
    "#zeros\n",
    "import numpy as np\n",
    "ar_zero=np.zeros(4)\n",
    "print(ar_zero)"
   ]
  },
  {
   "cell_type": "code",
   "execution_count": 2,
   "id": "efe841df-d226-4b43-9813-417c3311285b",
   "metadata": {},
   "outputs": [
    {
     "name": "stdout",
     "output_type": "stream",
     "text": [
      "[0. 0. 0. 0.] \n",
      "\n",
      "[[0. 0. 0. 0.]\n",
      " [0. 0. 0. 0.]\n",
      " [0. 0. 0. 0.]]\n"
     ]
    }
   ],
   "source": [
    "#zeros\n",
    "import numpy as np\n",
    "ar_zero=np.zeros(4)\n",
    "print(ar_zero,\"\\n\")\n",
    "\n",
    "arr2=np.zeros((3,4))\n",
    "print(arr2)"
   ]
  },
  {
   "cell_type": "code",
   "execution_count": 3,
   "id": "9a082211-13f6-4d49-8e84-bc4ba6cc9b56",
   "metadata": {},
   "outputs": [
    {
     "name": "stdout",
     "output_type": "stream",
     "text": [
      "[1. 1. 1. 1.]\n"
     ]
    }
   ],
   "source": [
    "#ones\n",
    "import numpy as np\n",
    "ar_one=np.ones(4)\n",
    "print(ar_one)"
   ]
  },
  {
   "cell_type": "code",
   "execution_count": 4,
   "id": "3936aa8d-cfc5-4343-bac6-23b12733bcd1",
   "metadata": {},
   "outputs": [
    {
     "name": "stdout",
     "output_type": "stream",
     "text": [
      "[1. 1. 1. 1.] \n",
      "\n",
      "[[1. 1. 1. 1.]\n",
      " [1. 1. 1. 1.]\n",
      " [1. 1. 1. 1.]]\n"
     ]
    }
   ],
   "source": [
    "#ones\n",
    "import numpy as np\n",
    "ar_one=np.ones(4)\n",
    "print(ar_zero,\"\\n\")\n",
    "\n",
    "arr2=np.ones((3,4))\n",
    "print(arr2)"
   ]
  },
  {
   "cell_type": "code",
   "execution_count": 6,
   "id": "6ae69efb-6d4d-476c-8445-6f43a1e4c7eb",
   "metadata": {},
   "outputs": [
    {
     "name": "stdout",
     "output_type": "stream",
     "text": [
      "[1. 1. 1. 1.]\n"
     ]
    }
   ],
   "source": [
    "#EMPTY\n",
    "a=np.empty(4)\n",
    "#yaha per hum output me one get karte hai , because hamare pass previously jo bhi memory hai , to us previously memory ka data hamare empty array ke under aa jata hai.\n",
    "print(a)"
   ]
  },
  {
   "cell_type": "code",
   "execution_count": 7,
   "id": "f78292bc-d92a-4d40-8fdd-b2d479216113",
   "metadata": {},
   "outputs": [
    {
     "name": "stdout",
     "output_type": "stream",
     "text": [
      "[0 1 2 3]\n"
     ]
    }
   ],
   "source": [
    "#RANGE\n",
    "arr=np.arange(4)\n",
    "print(arr)"
   ]
  },
  {
   "cell_type": "code",
   "execution_count": 8,
   "id": "9bf0bf9d-81e4-4c91-910c-7b1242b15d90",
   "metadata": {},
   "outputs": [
    {
     "name": "stdout",
     "output_type": "stream",
     "text": [
      "[[1. 0. 0.]\n",
      " [0. 1. 0.]\n",
      " [0. 0. 1.]]\n"
     ]
    }
   ],
   "source": [
    "#Diagonal element\n",
    "\n",
    "#Creating Identity metrix\n",
    "arr1=np.eye(3)\n",
    "print(arr1)"
   ]
  },
  {
   "cell_type": "code",
   "execution_count": 9,
   "id": "6d5debcc-3d66-4933-826a-5adae60a3848",
   "metadata": {},
   "outputs": [
    {
     "name": "stdout",
     "output_type": "stream",
     "text": [
      "[[1. 0. 0. 0. 0.]\n",
      " [0. 1. 0. 0. 0.]\n",
      " [0. 0. 1. 0. 0.]]\n"
     ]
    }
   ],
   "source": [
    "#Creating Identity metrix\n",
    "arr1=np.eye(3,5)\n",
    "print(arr1)"
   ]
  },
  {
   "cell_type": "code",
   "execution_count": 11,
   "id": "5666cb47-74ae-41eb-9a1d-43001c02405c",
   "metadata": {},
   "outputs": [
    {
     "name": "stdout",
     "output_type": "stream",
     "text": [
      "[ 1.    3.25  5.5   7.75 10.  ] \n",
      "\n",
      "[ 0.   2.5  5.   7.5 10. ] \n",
      "\n",
      "[ 0.  5. 10. 15. 20.] \n",
      "\n"
     ]
    }
   ],
   "source": [
    "#linspace\n",
    "\n",
    "arr3=np.linspace(1,10,num=5)\n",
    "print(arr3,\"\\n\")\n",
    "\n",
    "arr3=np.linspace(0,10,num=5)\n",
    "print(arr3,\"\\n\")\n",
    "\n",
    "arr3=np.linspace(0,20,num=5)\n",
    "print(arr3,\"\\n\")"
   ]
  },
  {
   "cell_type": "code",
   "execution_count": null,
   "id": "1792011e-a287-4c73-8c6b-53a493fb8e69",
   "metadata": {},
   "outputs": [],
   "source": []
  }
 ],
 "metadata": {
  "kernelspec": {
   "display_name": "Python 3 (ipykernel)",
   "language": "python",
   "name": "python3"
  },
  "language_info": {
   "codemirror_mode": {
    "name": "ipython",
    "version": 3
   },
   "file_extension": ".py",
   "mimetype": "text/x-python",
   "name": "python",
   "nbconvert_exporter": "python",
   "pygments_lexer": "ipython3",
   "version": "3.12.2"
  }
 },
 "nbformat": 4,
 "nbformat_minor": 5
}
