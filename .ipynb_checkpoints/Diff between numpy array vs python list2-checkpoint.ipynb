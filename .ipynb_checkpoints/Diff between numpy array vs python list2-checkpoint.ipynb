{
 "cells": [
  {
   "cell_type": "code",
   "execution_count": 2,
   "id": "10b479c5-ace0-459d-8248-512088157478",
   "metadata": {},
   "outputs": [
    {
     "name": "stdout",
     "output_type": "stream",
     "text": [
      "[3 4 5 6 2]\n",
      "<class 'numpy.ndarray'>\n",
      "[4, 3, 5, 6, 3]\n",
      "<class 'list'>\n"
     ]
    }
   ],
   "source": [
    "#difference b/w numpy array and python list\n",
    "import numpy as np\n",
    "x=np.array([3,4,5,6,2])\n",
    "print(x)\n",
    "print(type(x))\n",
    "\n",
    "#list ke under hame comma seprated value milti hai but numpy array ke under hame comma seprated value nahi milti hai.\n",
    "y=[4,3,5,6,3]\n",
    "print(y)\n",
    "print(type(y))"
   ]
  },
  {
   "cell_type": "code",
   "execution_count": 12,
   "id": "8f6d791c-3f2c-462d-b326-b44162949278",
   "metadata": {},
   "outputs": [
    {
     "name": "stdout",
     "output_type": "stream",
     "text": [
      "548 ns ± 26.4 ns per loop (mean ± std. dev. of 7 runs, 1,000,000 loops each)\n"
     ]
    }
   ],
   "source": [
    "#python list taking more time\n",
    "%timeit [j**4 for j in range(1,9)]"
   ]
  },
  {
   "cell_type": "code",
   "execution_count": 13,
   "id": "13227f32-97c8-47ba-b5ae-d43310685853",
   "metadata": {},
   "outputs": [
    {
     "name": "stdout",
     "output_type": "stream",
     "text": [
      "2.13 μs ± 43.5 ns per loop (mean ± std. dev. of 7 runs, 100,000 loops each)\n"
     ]
    }
   ],
   "source": [
    "#numpy array taking the some time\n",
    "import numpy as np\n",
    "%timeit np.arange(1,9)**4"
   ]
  },
  {
   "cell_type": "code",
   "execution_count": null,
   "id": "108d68fd-bba2-409c-ba15-0af18528b807",
   "metadata": {},
   "outputs": [],
   "source": []
  }
 ],
 "metadata": {
  "kernelspec": {
   "display_name": "Python 3 (ipykernel)",
   "language": "python",
   "name": "python3"
  },
  "language_info": {
   "codemirror_mode": {
    "name": "ipython",
    "version": 3
   },
   "file_extension": ".py",
   "mimetype": "text/x-python",
   "name": "python",
   "nbconvert_exporter": "python",
   "pygments_lexer": "ipython3",
   "version": "3.12.2"
  }
 },
 "nbformat": 4,
 "nbformat_minor": 5
}
