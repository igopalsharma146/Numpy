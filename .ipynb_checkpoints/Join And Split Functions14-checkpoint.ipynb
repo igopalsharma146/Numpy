{
 "cells": [
  {
   "cell_type": "markdown",
   "id": "227c6c10-f58a-452c-964e-b3a426c60709",
   "metadata": {},
   "source": [
    "# Join And Split Functions"
   ]
  },
  {
   "cell_type": "code",
   "execution_count": 6,
   "id": "424a916b-137e-4e85-99ad-1d61a4683889",
   "metadata": {},
   "outputs": [
    {
     "name": "stdout",
     "output_type": "stream",
     "text": [
      "[[1 2]\n",
      " [3 4]\n",
      " [5 6]\n",
      " [7 8]]\n"
     ]
    }
   ],
   "source": [
    "import numpy as np\n",
    "var2=np.array([[1,2],[3,4]])\n",
    "var3=np.array([[5,6],[7,8]])\n",
    "\n",
    "# ar=np.concatenate((var2,var3))\n",
    "# ar=np.concatenate((var2,var3),axis=0)\n",
    "ar=np.concatenate((var2,var3),axis=1)\n",
    "print(ar)"
   ]
  },
  {
   "cell_type": "code",
   "execution_count": 17,
   "id": "7dada0f3-d99e-45af-8159-3438b93c6e25",
   "metadata": {},
   "outputs": [
    {
     "name": "stdout",
     "output_type": "stream",
     "text": [
      "[[1 5]\n",
      " [2 6]\n",
      " [3 7]\n",
      " [4 8]]\n"
     ]
    }
   ],
   "source": [
    "#Merging two array using stack function\n",
    "import numpy as np\n",
    "vr1=np.array([1,2,3,4])\n",
    "vr2=np.array([5,6,7,8])\n",
    "\n",
    "# ar=np.stack((vr1,vr2))\n",
    "ar=np.stack((vr1,vr2),axis=1)\n",
    "print(ar)"
   ]
  },
  {
   "cell_type": "code",
   "execution_count": 12,
   "id": "8176b629-6027-4480-b191-be4390593b59",
   "metadata": {},
   "outputs": [
    {
     "name": "stdout",
     "output_type": "stream",
     "text": [
      "[1 2 3 4 5 6 7 8]\n"
     ]
    }
   ],
   "source": [
    "#Merging two array using stack function\n",
    "import numpy as np\n",
    "vr1=np.array([1,2,3,4])\n",
    "vr2=np.array([5,6,7,8])\n",
    "\n",
    "ar=np.hstack((vr1,vr2)) #row\n",
    "print(ar)"
   ]
  },
  {
   "cell_type": "code",
   "execution_count": 18,
   "id": "b3009617-00a4-45f6-808b-83056d4468c0",
   "metadata": {},
   "outputs": [
    {
     "name": "stdout",
     "output_type": "stream",
     "text": [
      "[[1 2 3 4]\n",
      " [5 6 7 8]]\n"
     ]
    }
   ],
   "source": [
    "#Merging two array using stack function\n",
    "import numpy as np\n",
    "vr1=np.array([1,2,3,4])\n",
    "vr2=np.array([5,6,7,8])\n",
    "\n",
    "# ar=np.stack((vr1,vr2),axis=0)\n",
    "ar=np.vstack((vr1,vr2)) #columns\n",
    "print(ar)"
   ]
  },
  {
   "cell_type": "code",
   "execution_count": 20,
   "id": "3168ae1b-3952-4596-991a-e043e0d35db2",
   "metadata": {},
   "outputs": [
    {
     "name": "stdout",
     "output_type": "stream",
     "text": [
      "[[[1 5]\n",
      "  [2 6]\n",
      "  [3 7]\n",
      "  [4 8]]]\n"
     ]
    }
   ],
   "source": [
    "#Merging two array using stack function\n",
    "import numpy as np\n",
    "vr1=np.array([1,2,3,4])\n",
    "vr2=np.array([5,6,7,8])\n",
    "\n",
    "# ar=np.stack((vr1,vr2),axis=1)\n",
    "ar=np.dstack((vr1,vr2)) #height\n",
    "print(ar)"
   ]
  },
  {
   "cell_type": "markdown",
   "id": "3320b2c1-6394-410a-a536-680717427f5a",
   "metadata": {},
   "source": [
    "# Split Array"
   ]
  },
  {
   "cell_type": "code",
   "execution_count": 26,
   "id": "45ef330d-afc9-4113-95c2-ab350647396f",
   "metadata": {},
   "outputs": [
    {
     "name": "stdout",
     "output_type": "stream",
     "text": [
      "[1 2 3 4 5 6] \n",
      "\n",
      "[array([1, 2]), array([3, 4]), array([5, 6])]\n",
      "<class 'list'>\n",
      "[1 2]\n",
      "[3 4]\n",
      "[5 6]\n"
     ]
    }
   ],
   "source": [
    "import numpy as np\n",
    "var=np.array([1,2,3,4,5,6])\n",
    "print(var,\"\\n\")\n",
    "ar=np.array_split(var,3)\n",
    "# ar=np.array_split(var,4)\n",
    "# ar=np.array_split(var,2)\n",
    "# ar=np.array_split(var,8)\n",
    "\n",
    "print(ar)\n",
    "\n",
    "#hum jab array ko split karate hai tab hame list type new data type milta hai.\n",
    "print(type(ar))\n",
    "\n",
    "print(ar[0])\n",
    "print(ar[1])\n",
    "print(ar[2])"
   ]
  },
  {
   "cell_type": "code",
   "execution_count": 29,
   "id": "4962184b-13bf-4ee7-9fb1-e89f6eb26585",
   "metadata": {},
   "outputs": [
    {
     "name": "stdout",
     "output_type": "stream",
     "text": [
      "[[1 2]\n",
      " [3 4]\n",
      " [5 6]] \n",
      "\n",
      "[array([[1, 2]]), array([[3, 4]]), array([[5, 6]])]\n",
      "<class 'list'>\n"
     ]
    }
   ],
   "source": [
    "import numpy as np\n",
    "var4=np.array([[1,2],[3,4],[5,6]])\n",
    "print(var,\"\\n\")\n",
    "ar1=np.array_split(var4,3)\n",
    "\n",
    "print(ar1)\n",
    "\n",
    "#hum jab array ko split karate hai tab hame list type new data type milta hai.\n",
    "print(type(ar))\n",
    "\n"
   ]
  },
  {
   "cell_type": "code",
   "execution_count": 32,
   "id": "8cace57b-e99c-4080-9026-f9d357a78873",
   "metadata": {},
   "outputs": [
    {
     "name": "stdout",
     "output_type": "stream",
     "text": [
      "[[1 2]\n",
      " [3 4]\n",
      " [5 6]] \n",
      "\n",
      "[array([[1, 2]]), array([[3, 4]]), array([[5, 6]])] \n",
      "\n",
      "\n",
      "[array([[1],\n",
      "       [3],\n",
      "       [5]]), array([[2],\n",
      "       [4],\n",
      "       [6]]), array([], shape=(3, 0), dtype=int32)] \n",
      "\n",
      "\n",
      "<class 'list'>\n"
     ]
    }
   ],
   "source": [
    "# Spliting array along the axis\n",
    "\n",
    "import numpy as np\n",
    "var4=np.array([[1,2],[3,4],[5,6]])\n",
    "print(var,\"\\n\")\n",
    "ar1=np.array_split(var4,3)\n",
    "ar2=np.array_split(var4,3,axis=1)\n",
    "\n",
    "print(ar1,\"\\n\\n\")\n",
    "print(ar2,\"\\n\\n\")\n",
    "\n",
    "#hum jab array ko split karate hai tab hame list type new data type milta hai.\n",
    "print(type(ar))\n",
    "\n"
   ]
  },
  {
   "cell_type": "code",
   "execution_count": null,
   "id": "4346896e-1d0a-4b72-b6f8-ffeb9a68844e",
   "metadata": {},
   "outputs": [],
   "source": []
  }
 ],
 "metadata": {
  "kernelspec": {
   "display_name": "Python 3 (ipykernel)",
   "language": "python",
   "name": "python3"
  },
  "language_info": {
   "codemirror_mode": {
    "name": "ipython",
    "version": 3
   },
   "file_extension": ".py",
   "mimetype": "text/x-python",
   "name": "python",
   "nbconvert_exporter": "python",
   "pygments_lexer": "ipython3",
   "version": "3.12.2"
  },
  "widgets": {
   "application/vnd.jupyter.widget-state+json": {
    "state": {},
    "version_major": 2,
    "version_minor": 0
   }
  }
 },
 "nbformat": 4,
 "nbformat_minor": 5
}
