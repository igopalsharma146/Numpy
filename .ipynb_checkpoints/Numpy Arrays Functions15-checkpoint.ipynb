{
 "cells": [
  {
   "cell_type": "markdown",
   "id": "c34c7dd3-01da-438c-83b9-a541795f3852",
   "metadata": {},
   "source": [
    " # Numpy Arrays Functions (Search,sort,search sorted,Filter)"
   ]
  },
  {
   "cell_type": "code",
   "execution_count": 1,
   "id": "69c7e9f9-0960-43bd-a0b7-b8a46f73cc5d",
   "metadata": {},
   "outputs": [
    {
     "name": "stdout",
     "output_type": "stream",
     "text": [
      "(array([1, 6], dtype=int64),)\n"
     ]
    }
   ],
   "source": [
    "#Searching\n",
    "import numpy as np\n",
    "var=np.array([1,2,3,4,3,5,2,5,6,7])\n",
    "x=np.where(var==2)\n",
    "#It returns the index number\n",
    "print(x)"
   ]
  },
  {
   "cell_type": "code",
   "execution_count": 6,
   "id": "6f7ca003-9630-492e-b4ac-cc799e6356ed",
   "metadata": {},
   "outputs": [
    {
     "name": "stdout",
     "output_type": "stream",
     "text": [
      "(array([0, 1, 6, 7], dtype=int64),)\n"
     ]
    }
   ],
   "source": [
    "#Searching\n",
    "import numpy as np\n",
    "var=np.array([4,6,3,7,3,7,2,8,9])\n",
    "x=np.where((var%2)==0)\n",
    "print(x)"
   ]
  },
  {
   "cell_type": "markdown",
   "id": "236f7acd-220e-4d05-8dba-bf8a2461ff45",
   "metadata": {},
   "source": [
    "# Search shorted array"
   ]
  },
  {
   "cell_type": "code",
   "execution_count": 4,
   "id": "ee8940fa-e1b6-4df6-a12e-ef2827721bcb",
   "metadata": {},
   "outputs": [
    {
     "name": "stdout",
     "output_type": "stream",
     "text": [
      "4\n",
      "4\n",
      "[1 2 3 4 6 7 8 9]\n"
     ]
    }
   ],
   "source": [
    "#Search shorted array\n",
    "import numpy as np\n",
    "var1=np.array([1,2,3,4,6,7,8,9])\n",
    "x=np.searchsorted(var1,5)\n",
    "#seachsorted function return the index number . where our element is place\n",
    "print(x)\n"
   ]
  },
  {
   "cell_type": "code",
   "execution_count": 5,
   "id": "2350d429-ba50-4bb6-a6b7-79cd0e7e104f",
   "metadata": {},
   "outputs": [
    {
     "name": "stdout",
     "output_type": "stream",
     "text": [
      "4\n"
     ]
    }
   ],
   "source": [
    "#in Above example our searchsorted function place the element from left side, we can change the Side. Ex:-\n",
    "#Search short array\n",
    "import numpy as np\n",
    "var1=np.array([1,2,3,4,6,7,8,9])\n",
    "x=np.searchsorted(var1,5,side=\"right\")\n",
    "#seachsorted function return the index number . where our element is place\n",
    "print(x)\n"
   ]
  },
  {
   "cell_type": "code",
   "execution_count": 6,
   "id": "81a035a4-d818-432e-9e65-ffa89c882fa6",
   "metadata": {},
   "outputs": [
    {
     "name": "stdout",
     "output_type": "stream",
     "text": [
      "[4 5 6]\n"
     ]
    }
   ],
   "source": [
    "import numpy as np\n",
    "var1=np.array([1,2,3,4,6,7,8,9])\n",
    "x=np.searchsorted(var1,[5,6,7],side=\"right\")\n",
    "#seachsorted function return the index number . where our element is place\n",
    "print(x)"
   ]
  },
  {
   "cell_type": "code",
   "execution_count": 7,
   "id": "ab4e099c-60a9-41c1-9857-f840f4d31e41",
   "metadata": {},
   "outputs": [
    {
     "name": "stdout",
     "output_type": "stream",
     "text": [
      "[4 4 4]\n"
     ]
    }
   ],
   "source": [
    "import numpy as np\n",
    "var1=np.array([1,2,3,4,8,9])\n",
    "x=np.searchsorted(var1,[5,6,7],side=\"right\")\n",
    "#seachsorted function return the index number . where our element is place\n",
    "print(x)"
   ]
  },
  {
   "cell_type": "markdown",
   "id": "f4a4fd1a-6737-43dc-a28a-9836aeb80357",
   "metadata": {},
   "source": [
    "# Sort Array"
   ]
  },
  {
   "cell_type": "code",
   "execution_count": 8,
   "id": "63d3123d-9e5c-414b-a0a5-30dbd839b803",
   "metadata": {},
   "outputs": [
    {
     "name": "stdout",
     "output_type": "stream",
     "text": [
      "[ 3  4  6  7  8  9 12 13 17]\n"
     ]
    }
   ],
   "source": [
    "#Sorting 1D Array\n",
    "import numpy as np\n",
    "var2=np.array([4,6,3,7,13,17,12,8,9])\n",
    "x2=np.sort(var2)\n",
    "print(x2)"
   ]
  },
  {
   "cell_type": "code",
   "execution_count": 10,
   "id": "cc7f696a-f44a-4f6a-b585-43c0536b25f4",
   "metadata": {},
   "outputs": [
    {
     "name": "stdout",
     "output_type": "stream",
     "text": [
      "['a' 'g' 'l' 'o' 'p']\n"
     ]
    }
   ],
   "source": [
    "#Sorting\n",
    "import numpy as np\n",
    "var2=np.array([\"o\",\"g\",\"a\",\"l\",\"p\"])\n",
    "x2=np.sort(var2)\n",
    "print(x2)"
   ]
  },
  {
   "cell_type": "code",
   "execution_count": 11,
   "id": "22bb3121-44d2-4ab7-8bf4-70ebfed06eb2",
   "metadata": {},
   "outputs": [
    {
     "name": "stdout",
     "output_type": "stream",
     "text": [
      "[[ 3  4  6]\n",
      " [ 7 13 17]\n",
      " [ 8  9 12]]\n"
     ]
    }
   ],
   "source": [
    "#Sorting 2D Array\n",
    "import numpy as np\n",
    "var2=np.array([[4,6,3],[7,13,17],[12,8,9]])\n",
    "x2=np.sort(var2)\n",
    "print(x2)"
   ]
  },
  {
   "cell_type": "markdown",
   "id": "8431efbf-60ca-4c1f-a502-3a1e9592c3a5",
   "metadata": {},
   "source": [
    "# Filter Array"
   ]
  },
  {
   "cell_type": "code",
   "execution_count": 14,
   "id": "1a72c0e1-8bb3-45d0-82df-ff123c1c5cde",
   "metadata": {},
   "outputs": [
    {
     "name": "stdout",
     "output_type": "stream",
     "text": [
      "['g' 'a' 'l']\n"
     ]
    }
   ],
   "source": [
    "import numpy as np\n",
    "var3=np.array([\"g\",\"o\",\"p\",\"a\",\"l\"])\n",
    "f=[True,False,False,True,True]\n",
    "new_arr=var3[f]\n",
    "print(new_arr)"
   ]
  },
  {
   "cell_type": "code",
   "execution_count": null,
   "id": "e9ee71a0-bb4e-4cd0-ac88-04c252c01e42",
   "metadata": {},
   "outputs": [],
   "source": []
  }
 ],
 "metadata": {
  "kernelspec": {
   "display_name": "Python 3 (ipykernel)",
   "language": "python",
   "name": "python3"
  },
  "language_info": {
   "codemirror_mode": {
    "name": "ipython",
    "version": 3
   },
   "file_extension": ".py",
   "mimetype": "text/x-python",
   "name": "python",
   "nbconvert_exporter": "python",
   "pygments_lexer": "ipython3",
   "version": "3.12.2"
  },
  "widgets": {
   "application/vnd.jupyter.widget-state+json": {
    "state": {},
    "version_major": 2,
    "version_minor": 0
   }
  }
 },
 "nbformat": 4,
 "nbformat_minor": 5
}
