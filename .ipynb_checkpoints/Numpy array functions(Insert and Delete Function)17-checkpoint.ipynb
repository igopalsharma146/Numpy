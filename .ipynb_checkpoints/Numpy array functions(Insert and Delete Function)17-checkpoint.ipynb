{
 "cells": [
  {
   "cell_type": "markdown",
   "id": "19211f82-61a9-4515-9b7a-8f9d9b29387b",
   "metadata": {},
   "source": [
    "# Numpy array functions(Insert and Delete Function)"
   ]
  },
  {
   "cell_type": "code",
   "execution_count": 3,
   "id": "9727bdf9-3a26-482f-aeb5-5fd9d82bdf93",
   "metadata": {},
   "outputs": [
    {
     "name": "stdout",
     "output_type": "stream",
     "text": [
      "[ 1  2 34  4] \n",
      "\n",
      "[ 1  2 40 34  4]\n"
     ]
    }
   ],
   "source": [
    "import numpy as np\n",
    "var=np.array([1,2,34,4])\n",
    "print(var,\"\\n\")\n",
    "\n",
    "v=np.insert(var,2,40) #insert(arrayName , position , value)\n",
    "print(v)"
   ]
  },
  {
   "cell_type": "code",
   "execution_count": 5,
   "id": "c4b0e77c-a55c-429c-8d41-c68a631d43a0",
   "metadata": {},
   "outputs": [
    {
     "name": "stdout",
     "output_type": "stream",
     "text": [
      "[ 1  2 34  4  5  7 82  4] \n",
      "\n",
      "[ 1  2  1 34  4  5  1  7 82  4  1]\n"
     ]
    }
   ],
   "source": [
    "import numpy as np\n",
    "var=np.array([1,2,34,4,5,7,82,4])\n",
    "print(var,\"\\n\")\n",
    "\n",
    "#agar hum multiple index per same value dena chahte hai , to hum vo bhi kar sakte hai\n",
    "v=np.insert(var,(2,5,8),1) #insert(arrayName , position , value)\n",
    "print(v)"
   ]
  },
  {
   "cell_type": "code",
   "execution_count": 6,
   "id": "c623b994-8c78-4e22-8605-131ef277139a",
   "metadata": {},
   "outputs": [
    {
     "name": "stdout",
     "output_type": "stream",
     "text": [
      "[ 1  2 34  4  5] \n",
      "\n",
      "[ 1  2 34  9  4  5]\n"
     ]
    }
   ],
   "source": [
    "import numpy as np\n",
    "var=np.array([1,2,34,4,5])\n",
    "print(var,\"\\n\")\n",
    "\n",
    "#agar hum float value ko insert karate hai to yah float value ko accept nahi karta hai,yah integer ko number ko print kara deta hai.\n",
    "v=np.insert(var,3,9.5) #insert(arrayName , position , value)\n",
    "print(v)"
   ]
  },
  {
   "cell_type": "code",
   "execution_count": 10,
   "id": "879b68b0-bba2-44c7-8de4-a67aaf2f74b8",
   "metadata": {},
   "outputs": [
    {
     "name": "stdout",
     "output_type": "stream",
     "text": [
      "[ 1  2 34  4] \n",
      "\n",
      "[ 1  2 34  4  2]\n"
     ]
    }
   ],
   "source": [
    "import numpy as np\n",
    "var=np.array([1,2,34,4])\n",
    "print(var,\"\\n\")\n",
    "\n",
    "v=np.append(var,2) #append(arrayName , value)\n",
    "print(v)"
   ]
  },
  {
   "cell_type": "code",
   "execution_count": 13,
   "id": "0a18c0ce-6c9b-44b5-9948-2b9ea94110a2",
   "metadata": {},
   "outputs": [
    {
     "name": "stdout",
     "output_type": "stream",
     "text": [
      "[ 1  2 34  4] \n",
      "\n",
      "[ 1.   2.  34.   4.   6.7]\n"
     ]
    }
   ],
   "source": [
    "import numpy as np\n",
    "var=np.array([1,2,34,4])\n",
    "print(var,\"\\n\")\n",
    "\n",
    "#append function float value ko accept karta hai\n",
    "v=np.append(var,6.7) #append(arrayName , value)\n",
    "print(v)"
   ]
  },
  {
   "cell_type": "code",
   "execution_count": 14,
   "id": "12e667e3-6918-4254-b54d-144e3c1df19f",
   "metadata": {},
   "outputs": [
    {
     "name": "stdout",
     "output_type": "stream",
     "text": [
      "[ 1  2 34  4] \n",
      "\n",
      "['1' '2' '34' '4' 'gopal']\n"
     ]
    }
   ],
   "source": [
    "import numpy as np\n",
    "var=np.array([1,2,34,4])\n",
    "print(var,\"\\n\")\n",
    "\n",
    "v=np.append(var,\"gopal\") #append(arrayName , value)\n",
    "print(v)"
   ]
  },
  {
   "cell_type": "markdown",
   "id": "8feb890d-79bc-492f-846a-d5d76fec3f3a",
   "metadata": {},
   "source": [
    "# two dimention array"
   ]
  },
  {
   "cell_type": "code",
   "execution_count": 7,
   "id": "00b71da3-7aea-4a09-89c7-ba97c8d5aaee",
   "metadata": {},
   "outputs": [
    {
     "name": "stdout",
     "output_type": "stream",
     "text": [
      "[1 2 6 3 1 2 3]\n"
     ]
    }
   ],
   "source": [
    "var1 =np.array([[1,2,3],[1,2,3]])\n",
    "v1=np.insert(var1,2,6)\n",
    "print(v1)"
   ]
  },
  {
   "cell_type": "code",
   "execution_count": 8,
   "id": "6acb06e5-7e83-4d7f-8af8-b5f14fc306b6",
   "metadata": {},
   "outputs": [
    {
     "name": "stdout",
     "output_type": "stream",
     "text": [
      "[[1 2 3]\n",
      " [1 2 3]\n",
      " [6 6 6]]\n"
     ]
    }
   ],
   "source": [
    "var1 =np.array([[1,2,3],[1,2,3]])\n",
    "v1=np.insert(var1,2,6,axis=0)\n",
    "print(v1)"
   ]
  },
  {
   "cell_type": "code",
   "execution_count": 9,
   "id": "ac1931c8-4740-4c42-8770-f4525df9f122",
   "metadata": {},
   "outputs": [
    {
     "name": "stdout",
     "output_type": "stream",
     "text": [
      "[[1 2 6 3]\n",
      " [1 2 6 3]]\n"
     ]
    }
   ],
   "source": [
    "var1 =np.array([[1,2,3],[1,2,3]])\n",
    "v1=np.insert(var1,2,6,axis=1)\n",
    "print(v1)"
   ]
  },
  {
   "cell_type": "code",
   "execution_count": null,
   "id": "6b8c3b1a-d7b5-4533-b595-d559e5acd84d",
   "metadata": {},
   "outputs": [],
   "source": [
    "var1 =np.array([[1,2,3],[1,2,3]])\n",
    "v1=np.append(var1,[[4,5,7]])\n",
    "print(v1)"
   ]
  },
  {
   "cell_type": "code",
   "execution_count": 17,
   "id": "372cdf87-b522-4d77-8720-44e8a879867d",
   "metadata": {},
   "outputs": [
    {
     "name": "stdout",
     "output_type": "stream",
     "text": [
      "[[1 2 3]\n",
      " [1 2 3]\n",
      " [4 5 7]]\n"
     ]
    }
   ],
   "source": [
    "#appending along row\n",
    "var1 =np.array([[1,2,3],[1,2,3]])\n",
    "v1=np.append(var1,[[4,5,7]],axis=0)\n",
    "print(v1)"
   ]
  },
  {
   "cell_type": "code",
   "execution_count": 23,
   "id": "63632de1-f24a-4460-aa9c-5706ade058d9",
   "metadata": {},
   "outputs": [
    {
     "name": "stdout",
     "output_type": "stream",
     "text": [
      "[[1 2 3 4]\n",
      " [1 2 3 5]]\n"
     ]
    }
   ],
   "source": [
    "#appending along column\n",
    "var1 =np.array([[1,2,3],[1,2,3]])\n",
    "v1=np.append(var1,[[4],[5]],axis=1)\n",
    "print(v1)"
   ]
  },
  {
   "cell_type": "markdown",
   "id": "7da378f2-11ea-4ded-8443-fe260be9d37e",
   "metadata": {},
   "source": [
    "# delete"
   ]
  },
  {
   "cell_type": "code",
   "execution_count": null,
   "id": "e65994ea-0a22-4020-bbdd-18ae095670e9",
   "metadata": {},
   "outputs": [],
   "source": [
    "import numpy as np\n",
    "var=np.array([1,2,34,4])\n",
    "print(var,\"\\n\")\n",
    "\n",
    "v=np.delete(var,2) #insert(arrayName , indexNumber )\n",
    "print(v)"
   ]
  }
 ],
 "metadata": {
  "kernelspec": {
   "display_name": "Python 3 (ipykernel)",
   "language": "python",
   "name": "python3"
  },
  "language_info": {
   "codemirror_mode": {
    "name": "ipython",
    "version": 3
   },
   "file_extension": ".py",
   "mimetype": "text/x-python",
   "name": "python",
   "nbconvert_exporter": "python",
   "pygments_lexer": "ipython3",
   "version": "3.12.2"
  },
  "widgets": {
   "application/vnd.jupyter.widget-state+json": {
    "state": {},
    "version_major": 2,
    "version_minor": 0
   }
  }
 },
 "nbformat": 4,
 "nbformat_minor": 5
}
