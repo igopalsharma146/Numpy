{
 "cells": [
  {
   "cell_type": "markdown",
   "id": "700d0b80-f183-4c51-8ea8-f1c2e2d579b0",
   "metadata": {},
   "source": [
    "# Arithmetic Function"
   ]
  },
  {
   "cell_type": "code",
   "execution_count": 3,
   "id": "09e6f3af-4a55-4a21-b2cf-fdb3f2f13074",
   "metadata": {},
   "outputs": [
    {
     "name": "stdout",
     "output_type": "stream",
     "text": [
      "[3 2 5 1 4]\n"
     ]
    }
   ],
   "source": [
    "#Shuffle\n",
    "import numpy as np\n",
    "var=np.array([1,2,3,4,5])\n",
    "np.random.shuffle(var)\n",
    "print(var)"
   ]
  },
  {
   "cell_type": "code",
   "execution_count": 4,
   "id": "a3dc90a1-0107-4ac8-a868-be5fdc6a433b",
   "metadata": {},
   "outputs": [
    {
     "name": "stdout",
     "output_type": "stream",
     "text": [
      "[1 2 3 4 5 6 7]\n"
     ]
    }
   ],
   "source": [
    "#unique\n",
    "var=np.array([1,2,3,4,2,5,3,6,2,7])\n",
    "x=np.unique(var)\n",
    "print(x)"
   ]
  },
  {
   "cell_type": "code",
   "execution_count": 8,
   "id": "7af878de-df8a-4931-96d6-439b5b191db2",
   "metadata": {},
   "outputs": [
    {
     "name": "stdout",
     "output_type": "stream",
     "text": [
      "(array([1, 2, 3, 4, 5, 6, 7]), array([0, 1, 2, 3, 5, 7, 9], dtype=int64), array([1, 3, 2, 1, 1, 1, 1], dtype=int64))\n"
     ]
    }
   ],
   "source": [
    "#unique\n",
    "var=np.array([1,2,3,4,2,5,3,6,2,7])\n",
    "\n",
    "#printing index number and count\n",
    "x=np.unique(var,return_index=True,return_counts=True)\n",
    "print(x)"
   ]
  },
  {
   "cell_type": "markdown",
   "id": "d5c0186f-e0db-43b6-b7d5-22979a43760a",
   "metadata": {},
   "source": [
    "Resize"
   ]
  },
  {
   "cell_type": "code",
   "execution_count": 9,
   "id": "488c90e8-133f-49aa-b47c-6c714c0266ff",
   "metadata": {},
   "outputs": [
    {
     "name": "stdout",
     "output_type": "stream",
     "text": [
      "[[1 2 3]\n",
      " [4 5 6]]\n"
     ]
    }
   ],
   "source": [
    "#Resize\n",
    "var2=np.array([1,2,3,4,5,6])\n",
    "y=np.resize(var2,(2,3))\n",
    "print(y)"
   ]
  },
  {
   "cell_type": "code",
   "execution_count": 10,
   "id": "a318d7ee-2b76-4c3c-be7e-4a5ffba1ea7e",
   "metadata": {},
   "outputs": [
    {
     "name": "stdout",
     "output_type": "stream",
     "text": [
      "[[1 2]\n",
      " [3 4]\n",
      " [5 6]]\n"
     ]
    }
   ],
   "source": [
    "#Resize\n",
    "var2=np.array([1,2,3,4,5,6])\n",
    "y=np.resize(var2,(3,2))\n",
    "print(y)"
   ]
  },
  {
   "cell_type": "code",
   "execution_count": 11,
   "id": "1f1f4ca0-03c9-44c5-b070-567714d76ba1",
   "metadata": {},
   "outputs": [
    {
     "name": "stdout",
     "output_type": "stream",
     "text": [
      "[1 2 3 4 5 6]\n"
     ]
    }
   ],
   "source": [
    "#flatten\n",
    "\n",
    "var2=np.array([1,2,3,4,5,6])\n",
    "y=np.resize(var2,(3,2))\n",
    "print(y,\"\\n\")\n",
    "\n",
    "print(y.flatten())"
   ]
  },
  {
   "cell_type": "code",
   "execution_count": 21,
   "id": "78b29af1-1cd2-445f-9ad3-4228c425a98e",
   "metadata": {},
   "outputs": [
    {
     "name": "stdout",
     "output_type": "stream",
     "text": [
      "[[1 2]\n",
      " [3 4]\n",
      " [5 6]] \n",
      "\n",
      "Flatten : [1 2 3 4 5 6] \n",
      "\n",
      "Flatten : [1 3 5 2 4 6] \n",
      "\n",
      "Flatten : [1 2 3 4 5 6] \n",
      "\n",
      "Flatten : [1 2 3 4 5 6] \n",
      "\n",
      "Ravel : [1 2 3 4 5 6] \n",
      "\n",
      "Ravel : [1 3 5 2 4 6] \n",
      "\n",
      "Ravel : [1 2 3 4 5 6] \n",
      "\n",
      "Ravel : [1 2 3 4 5 6] \n",
      "\n"
     ]
    }
   ],
   "source": [
    "#flatten\n",
    "\n",
    "var2=np.array([1,2,3,4,5,6])\n",
    "y=np.resize(var2,(3,2))\n",
    "print(y,\"\\n\")\n",
    "\n",
    "#changing the order\n",
    "print(\"Flatten :\",y.flatten(order=\"C\"),\"\\n\") #row major\n",
    "print(\"Flatten :\",y.flatten(order=\"F\"),\"\\n\") #column major\n",
    "print(\"Flatten :\",y.flatten(order=\"A\"),\"\\n\")\n",
    "print(\"Flatten :\",y.flatten(order=\"K\"),\"\\n\")\n",
    "\n",
    "\n",
    "print(\"Ravel :\",y.ravel(order=\"C\"),\"\\n\")\n",
    "print(\"Ravel :\",y.ravel(order=\"F\"),\"\\n\")\n",
    "print(\"Ravel :\",y.ravel(order=\"A\"),\"\\n\")\n",
    "print(\"Ravel :\",y.ravel(order=\"K\"),\"\\n\")\n",
    "\n"
   ]
  },
  {
   "cell_type": "code",
   "execution_count": null,
   "id": "8d2accf9-3109-4d53-8a82-820c4e4492a2",
   "metadata": {},
   "outputs": [],
   "source": []
  }
 ],
 "metadata": {
  "kernelspec": {
   "display_name": "Python 3 (ipykernel)",
   "language": "python",
   "name": "python3"
  },
  "language_info": {
   "codemirror_mode": {
    "name": "ipython",
    "version": 3
   },
   "file_extension": ".py",
   "mimetype": "text/x-python",
   "name": "python",
   "nbconvert_exporter": "python",
   "pygments_lexer": "ipython3",
   "version": "3.12.2"
  },
  "widgets": {
   "application/vnd.jupyter.widget-state+json": {
    "state": {},
    "version_major": 2,
    "version_minor": 0
   }
  }
 },
 "nbformat": 4,
 "nbformat_minor": 5
}
