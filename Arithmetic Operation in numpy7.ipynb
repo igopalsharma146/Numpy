{
 "cells": [
  {
   "cell_type": "markdown",
   "id": "b7f9d4dc-1976-41ba-a3c3-a1a8ec2f45b9",
   "metadata": {},
   "source": [
    "# Arithmetic Operation in numpy"
   ]
  },
  {
   "cell_type": "code",
   "execution_count": 1,
   "id": "a01d2a94-62d1-4a51-8a58-34b626159edf",
   "metadata": {},
   "outputs": [
    {
     "name": "stdout",
     "output_type": "stream",
     "text": [
      "[4 5 6 7]\n"
     ]
    }
   ],
   "source": [
    "import numpy as np\n",
    "var=np.array([1,2,3,4])\n",
    "varAdd=var+3\n",
    "print(varAdd)"
   ]
  },
  {
   "cell_type": "code",
   "execution_count": 2,
   "id": "0a6e0d54-7f9a-47fe-b508-2e1b1b5a0fcb",
   "metadata": {},
   "outputs": [
    {
     "name": "stdout",
     "output_type": "stream",
     "text": [
      "[ 4  6  8 10]\n"
     ]
    }
   ],
   "source": [
    "var=np.array([1,2,3,4])\n",
    "var1=np.array([3,4,5,6])\n",
    "varAdd=var+var1\n",
    "print(varAdd)"
   ]
  },
  {
   "cell_type": "code",
   "execution_count": 3,
   "id": "3587e5c6-313e-4640-915c-a1fbcd7c08f5",
   "metadata": {},
   "outputs": [
    {
     "name": "stdout",
     "output_type": "stream",
     "text": [
      "[-2 -1  0  1]\n"
     ]
    }
   ],
   "source": [
    "import numpy as np\n",
    "var=np.array([1,2,3,4])\n",
    "varAdd=var-3\n",
    "print(varAdd)"
   ]
  },
  {
   "cell_type": "code",
   "execution_count": 4,
   "id": "ddf60eee-4eb1-4b61-bd8a-b50e8c443af7",
   "metadata": {},
   "outputs": [
    {
     "name": "stdout",
     "output_type": "stream",
     "text": [
      "[ 3  6  9 12]\n"
     ]
    }
   ],
   "source": [
    "import numpy as np\n",
    "var=np.array([1,2,3,4])\n",
    "varAdd=var*3\n",
    "print(varAdd)"
   ]
  },
  {
   "cell_type": "code",
   "execution_count": 1,
   "id": "28ac774f-e811-4f32-9290-0937d74c398e",
   "metadata": {},
   "outputs": [
    {
     "name": "stdout",
     "output_type": "stream",
     "text": [
      "[0.33333333 0.66666667 1.         1.33333333]\n"
     ]
    }
   ],
   "source": [
    "import numpy as np\n",
    "var=np.array([1,2,3,4])\n",
    "varAdd=var/3\n",
    "print(varAdd)"
   ]
  },
  {
   "cell_type": "code",
   "execution_count": 6,
   "id": "6b78dccd-c932-41ca-b2de-8db9b75dc5b8",
   "metadata": {},
   "outputs": [
    {
     "name": "stdout",
     "output_type": "stream",
     "text": [
      "[0 0 1 1]\n"
     ]
    }
   ],
   "source": [
    "import numpy as np\n",
    "var=np.array([1,2,3,4])\n",
    "varAdd=var//3\n",
    "print(varAdd)"
   ]
  },
  {
   "cell_type": "code",
   "execution_count": 7,
   "id": "0204611c-9c11-4a4f-92bd-880e482b75c5",
   "metadata": {},
   "outputs": [
    {
     "name": "stdout",
     "output_type": "stream",
     "text": [
      "[1 2 0 1]\n"
     ]
    }
   ],
   "source": [
    "import numpy as np\n",
    "var=np.array([1,2,3,4])\n",
    "varAdd=var%3\n",
    "print(varAdd)"
   ]
  },
  {
   "cell_type": "markdown",
   "id": "c1c2a01a-e2e3-4da6-89c6-0c51e106e735",
   "metadata": {},
   "source": [
    "#using function for arithmetic operation"
   ]
  },
  {
   "cell_type": "code",
   "execution_count": 8,
   "id": "00db255a-6e6b-444b-91e1-5af41a178cc1",
   "metadata": {},
   "outputs": [
    {
     "name": "stdout",
     "output_type": "stream",
     "text": [
      "[ 4  6  8 10]\n"
     ]
    }
   ],
   "source": [
    "var=np.array([1,2,3,4])\n",
    "var1=np.array([3,4,5,6])\n",
    "varAdd=np.add(var,var1)\n",
    "print(varAdd)"
   ]
  },
  {
   "cell_type": "code",
   "execution_count": 9,
   "id": "4c055b9a-fda0-499b-8824-b885f3cf0a2c",
   "metadata": {},
   "outputs": [
    {
     "name": "stdout",
     "output_type": "stream",
     "text": [
      "[4 5 6 7]\n"
     ]
    }
   ],
   "source": [
    "var=np.array([1,2,3,4])\n",
    "var1=np.array([3,4,5,6])\n",
    "varAdd=np.add(var,3)\n",
    "print(varAdd)"
   ]
  },
  {
   "cell_type": "markdown",
   "id": "02780b42-9c51-4b4f-b317-6aedf501e7db",
   "metadata": {},
   "source": [
    "2D Array"
   ]
  },
  {
   "cell_type": "code",
   "execution_count": 11,
   "id": "e4aec2ed-fb48-4aa5-a493-861439d09a57",
   "metadata": {},
   "outputs": [
    {
     "name": "stdout",
     "output_type": "stream",
     "text": [
      "[[1 2 0 1]\n",
      " [1 2 0 1]]\n"
     ]
    }
   ],
   "source": [
    "#2D Array\n",
    "var=np.array([[1,2,3,4],[4,5,6,7]])\n",
    "varAdd=var%3\n",
    "print(varAdd)"
   ]
  },
  {
   "cell_type": "code",
   "execution_count": 17,
   "id": "683ee145-d7b6-400b-ab90-b94aa2f1c10e",
   "metadata": {},
   "outputs": [
    {
     "name": "stdout",
     "output_type": "stream",
     "text": [
      "[[1 2 3 4]\n",
      " [4 5 6 7]]\n",
      "\n",
      "[[2 3 4 5]\n",
      " [6 7 8 9]]\n",
      "\n",
      "[[ 3  5  7  9]\n",
      " [10 12 14 16]]\n"
     ]
    }
   ],
   "source": [
    "#Arithmetic operation\n",
    "var=np.array([[1,2,3,4],[4,5,6,7]])\n",
    "print(var)\n",
    "print()\n",
    "var1=np.array([[2,3,4,5],[6,7,8,9]])\n",
    "print(var1)\n",
    "print()\n",
    "\n",
    "varAdd=var+var1\n",
    "print(varAdd)"
   ]
  },
  {
   "cell_type": "code",
   "execution_count": 3,
   "id": "841ae350-d32c-49e2-bd71-8bf6ebec9f4e",
   "metadata": {},
   "outputs": [
    {
     "name": "stdout",
     "output_type": "stream",
     "text": [
      "[1 0 1 0]\n"
     ]
    }
   ],
   "source": [
    "var=np.array([1,2,1,4])\n",
    "varAdd=np.reciprocal(var)\n",
    "print(varAdd)"
   ]
  },
  {
   "cell_type": "code",
   "execution_count": 19,
   "id": "b43c91ef-b2d3-4173-be61-4538be4fbaa6",
   "metadata": {},
   "outputs": [
    {
     "name": "stdout",
     "output_type": "stream",
     "text": [
      "[[1 2 3 4]\n",
      " [4 5 6 7]]\n",
      "\n",
      "[[2 3 4 5]\n",
      " [6 7 8 9]]\n",
      "\n",
      "[[ 2  6 12 20]\n",
      " [24 35 48 63]]\n"
     ]
    }
   ],
   "source": [
    "var=np.array([[1,2,3,4],[4,5,6,7]])\n",
    "print(var)\n",
    "print()\n",
    "var1=np.array([[2,3,4,5],[6,7,8,9]])\n",
    "print(var1)\n",
    "print()\n",
    "\n",
    "varAdd=np.multiply(var,var1)\n",
    "print(varAdd)"
   ]
  },
  {
   "cell_type": "code",
   "execution_count": null,
   "id": "1a5759a1-64b9-47b6-9dff-b86c7dbbb36b",
   "metadata": {},
   "outputs": [],
   "source": []
  },
  {
   "cell_type": "code",
   "execution_count": null,
   "id": "d56c5d82-12f7-44fe-9e0e-4005bb84a13a",
   "metadata": {},
   "outputs": [],
   "source": []
  }
 ],
 "metadata": {
  "kernelspec": {
   "display_name": "Python 3 (ipykernel)",
   "language": "python",
   "name": "python3"
  },
  "language_info": {
   "codemirror_mode": {
    "name": "ipython",
    "version": 3
   },
   "file_extension": ".py",
   "mimetype": "text/x-python",
   "name": "python",
   "nbconvert_exporter": "python",
   "pygments_lexer": "ipython3",
   "version": "3.12.2"
  },
  "widgets": {
   "application/vnd.jupyter.widget-state+json": {
    "state": {},
    "version_major": 2,
    "version_minor": 0
   }
  }
 },
 "nbformat": 4,
 "nbformat_minor": 5
}
