{
 "cells": [
  {
   "cell_type": "markdown",
   "id": "fe4505de-2781-4829-89d6-fc1edc486b1c",
   "metadata": {},
   "source": [
    "# Broadcasting numpy Array"
   ]
  },
  {
   "cell_type": "code",
   "execution_count": 8,
   "id": "7be730c7-b9a9-42d7-b871-5626331b6967",
   "metadata": {},
   "outputs": [
    {
     "name": "stdout",
     "output_type": "stream",
     "text": [
      "(4,)\n",
      "[1 2 3 4] \n",
      "\n"
     ]
    }
   ],
   "source": [
    "import numpy as np\n",
    "var1=np.array([1,2,3,4])\n",
    "print(var1.shape)\n",
    "print(var1,\"\\n\")\n",
    "\n",
    "var2=np.array([1,2,3])\n",
    "# print(var1+var2)  #this will be throw an error"
   ]
  },
  {
   "cell_type": "code",
   "execution_count": 5,
   "id": "ed0fa778-77b8-416e-a0ad-a5199f265d3e",
   "metadata": {},
   "outputs": [
    {
     "name": "stdout",
     "output_type": "stream",
     "text": [
      "(3,)\n",
      "[1 2 3] \n",
      "\n",
      "(3, 1)\n",
      "[[1]\n",
      " [2]\n",
      " [3]] \n",
      "\n",
      "[[2 3 4]\n",
      " [3 4 5]\n",
      " [4 5 6]]\n"
     ]
    }
   ],
   "source": [
    "import numpy as np\n",
    "var1=np.array([1,2,3])\n",
    "print(var1.shape)\n",
    "print(var1,\"\\n\")\n",
    "\n",
    "var2=np.array([[1],[2],[3]])\n",
    "print(var2.shape)\n",
    "print(var2,\"\\n\")\n",
    "\n",
    "print(var1+var2)"
   ]
  },
  {
   "cell_type": "code",
   "execution_count": 13,
   "id": "a878e147-1928-49c1-8620-11ccbc990832",
   "metadata": {},
   "outputs": [
    {
     "name": "stdout",
     "output_type": "stream",
     "text": [
      "(2, 1)\n",
      "(2, 3)\n",
      "[[2 3 4]\n",
      " [3 4 5]]\n"
     ]
    }
   ],
   "source": [
    "x=np.array([[1],[2]])\n",
    "print(x.shape)\n",
    "\n",
    "y=np.array([[1,2,3],[1,2,3]])\n",
    "print(y.shape)\n",
    "print(x+y)"
   ]
  },
  {
   "cell_type": "code",
   "execution_count": null,
   "id": "f9bb5f34-9b7c-495f-882b-caf0cf460fa5",
   "metadata": {},
   "outputs": [],
   "source": []
  }
 ],
 "metadata": {
  "kernelspec": {
   "display_name": "Python 3 (ipykernel)",
   "language": "python",
   "name": "python3"
  },
  "language_info": {
   "codemirror_mode": {
    "name": "ipython",
    "version": 3
   },
   "file_extension": ".py",
   "mimetype": "text/x-python",
   "name": "python",
   "nbconvert_exporter": "python",
   "pygments_lexer": "ipython3",
   "version": "3.12.2"
  },
  "widgets": {
   "application/vnd.jupyter.widget-state+json": {
    "state": {},
    "version_major": 2,
    "version_minor": 0
   }
  }
 },
 "nbformat": 4,
 "nbformat_minor": 5
}
