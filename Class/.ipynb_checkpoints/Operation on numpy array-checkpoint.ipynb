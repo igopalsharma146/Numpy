{
 "cells": [
  {
   "cell_type": "markdown",
   "id": "12f88f75-6715-4fff-add7-0ac412213543",
   "metadata": {},
   "source": [
    "Operation on numpy array"
   ]
  },
  {
   "cell_type": "code",
   "execution_count": 3,
   "id": "5a5b7d7a-a99e-4585-a137-7b813a1f19bb",
   "metadata": {},
   "outputs": [
    {
     "name": "stdout",
     "output_type": "stream",
     "text": [
      "the transpose of the metrix : [3 4 5 7 8]\n"
     ]
    }
   ],
   "source": [
    "#matrix transpose\n",
    "import numpy as np\n",
    "var1=np.array([3,4,5,7,8])\n",
    "print(\"the transpose of the metrix :\",var1.T)"
   ]
  },
  {
   "cell_type": "code",
   "execution_count": 4,
   "id": "ce498a00-fdb2-44f9-8cfc-b7c37593e533",
   "metadata": {},
   "outputs": [
    {
     "name": "stdout",
     "output_type": "stream",
     "text": [
      "the transpose of the metrix : [[3 1 4]\n",
      " [4 2 5]\n",
      " [5 3 6]]\n"
     ]
    }
   ],
   "source": [
    "import numpy as np\n",
    "var1=np.array([[3,4,5],[1,2,3],[4,5,6]])\n",
    "print(\"the transpose of the metrix :\",var1.T)"
   ]
  },
  {
   "cell_type": "code",
   "execution_count": 7,
   "id": "8b018520-d967-4eef-9820-4922f6a95a5b",
   "metadata": {},
   "outputs": [
    {
     "name": "stdout",
     "output_type": "stream",
     "text": [
      "addition : [2 4 6 8]\n",
      "subtraction : [0 0 0 0]\n",
      "multiplication : [ 1  4  9 16]\n",
      "division : [1. 1. 1. 1.]\n",
      "division : [1 1 1 1]\n",
      "Remender : [0 0 0 0]\n",
      "multiplication : 30\n"
     ]
    }
   ],
   "source": [
    "#WAP To perform the matrix addition multiplication , subtraction , division etc.\n",
    "import numpy as np\n",
    "x=np.array([1,2,3,4])\n",
    "y=np.array([1,2,3,4])\n",
    "print(\"addition :\",x+y)\n",
    "print(\"subtraction :\",x-y)\n",
    "print(\"multiplication :\",x*y)\n",
    "print(\"division :\",x/y)\n",
    "print(\"division :\",x//y)\n",
    "print(\"Remender :\",x%y)\n",
    "\n"
   ]
  },
  {
   "cell_type": "code",
   "execution_count": 9,
   "id": "a636d151-3ad3-4ea4-bebc-d3a6b0ea6597",
   "metadata": {},
   "outputs": [
    {
     "name": "stdout",
     "output_type": "stream",
     "text": [
      "[[1 2 3]\n",
      " [4 5 6]\n",
      " [7 8 9]]\n",
      "[[1 2 3]\n",
      " [4 5 6]\n",
      " [7 8 9]]\n",
      "multiplication : [[ 30  36  42]\n",
      " [ 66  81  96]\n",
      " [102 126 150]]\n"
     ]
    }
   ],
   "source": [
    "#multipling the two matrix\n",
    "m=np.array([[1,2,3],[4,5,6],[7,8,9]])\n",
    "n=np.array([[1,2,3],[4,5,6],[7,8,9]])\n",
    "print(m)\n",
    "print(n)\n",
    "print(\"multiplication :\",m.dot(n))"
   ]
  },
  {
   "cell_type": "code",
   "execution_count": null,
   "id": "2a3e3fbe-d6a5-4a99-bcb2-c5634bff553d",
   "metadata": {},
   "outputs": [],
   "source": []
  }
 ],
 "metadata": {
  "kernelspec": {
   "display_name": "Python 3 (ipykernel)",
   "language": "python",
   "name": "python3"
  },
  "language_info": {
   "codemirror_mode": {
    "name": "ipython",
    "version": 3
   },
   "file_extension": ".py",
   "mimetype": "text/x-python",
   "name": "python",
   "nbconvert_exporter": "python",
   "pygments_lexer": "ipython3",
   "version": "3.12.2"
  },
  "widgets": {
   "application/vnd.jupyter.widget-state+json": {
    "state": {},
    "version_major": 2,
    "version_minor": 0
   }
  }
 },
 "nbformat": 4,
 "nbformat_minor": 5
}
