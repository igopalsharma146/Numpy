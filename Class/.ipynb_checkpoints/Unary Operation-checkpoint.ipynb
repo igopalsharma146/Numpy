{
 "cells": [
  {
   "cell_type": "markdown",
   "id": "5cbad8bf-d3fb-41bc-a48e-e4b435df9d3b",
   "metadata": {},
   "source": [
    "Unary Operation "
   ]
  },
  {
   "cell_type": "code",
   "execution_count": 16,
   "id": "a31e3a0f-564b-43a5-a5b9-f5122a7d2046",
   "metadata": {},
   "outputs": [
    {
     "name": "stdout",
     "output_type": "stream",
     "text": [
      "[[7 4 2]\n",
      " [9 5 1]\n",
      " [2 1 3]]\n",
      "the largest element in array : 9\n",
      "Row wise largest element : [7 9 3]\n",
      "column wise largest element : [9 5 3]\n",
      "the Minimum element in array : 1\n",
      "Row wise Minimum element : [2 1 1]\n",
      "column wise Minimum element : [2 1 1]\n",
      "The sum of every element in array : 34\n",
      "Total element in array : 9\n",
      "Average of All elments : 3.7777777777777777\n"
     ]
    }
   ],
   "source": [
    "import numpy as np\n",
    "arr=np.array([[7,4,2],[9,5,1],[2,1,3]])\n",
    "print(arr)\n",
    "print(\"the largest element in array :\",arr.max())\n",
    "print(\"Row wise largest element :\",arr.max(axis=1))\n",
    "print(\"column wise largest element :\",arr.max(axis=0))\n",
    "print(\"the Minimum element in array :\",arr.min())\n",
    "print(\"Row wise Minimum element :\",arr.min(axis=1))\n",
    "print(\"column wise Minimum element :\",arr.min(axis=0))\n",
    "print(\"The sum of every element in array :\",arr.sum())\n",
    "\n",
    "\n",
    "# print(\"Total element in array :\",arr.count()) #this will be throw an error. NO problem , solution is here\n",
    "#Total element in array\n",
    "print(\"Total element in array :\",arr.size)\n",
    "\n",
    "# print(\"Average of All elments :\",arr.avg())  #this will be throw an error. NO problem , solution is here\n",
    "print(\"Average of All elments :\",np.average(arr))"
   ]
  }
 ],
 "metadata": {
  "kernelspec": {
   "display_name": "Python 3 (ipykernel)",
   "language": "python",
   "name": "python3"
  },
  "language_info": {
   "codemirror_mode": {
    "name": "ipython",
    "version": 3
   },
   "file_extension": ".py",
   "mimetype": "text/x-python",
   "name": "python",
   "nbconvert_exporter": "python",
   "pygments_lexer": "ipython3",
   "version": "3.12.2"
  },
  "widgets": {
   "application/vnd.jupyter.widget-state+json": {
    "state": {},
    "version_major": 2,
    "version_minor": 0
   }
  }
 },
 "nbformat": 4,
 "nbformat_minor": 5
}
