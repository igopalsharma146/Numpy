{
 "cells": [
  {
   "cell_type": "markdown",
   "id": "fe56b874-d7d1-4c83-8232-97e07f6ce6a9",
   "metadata": {},
   "source": [
    "Slicing in array"
   ]
  },
  {
   "cell_type": "code",
   "execution_count": 2,
   "id": "bc4ea4c1-190d-4ad6-9df0-ec0b5304bed8",
   "metadata": {},
   "outputs": [
    {
     "name": "stdout",
     "output_type": "stream",
     "text": [
      "4\n",
      "[4]\n",
      "[3 4 7]\n",
      "[ 4  7 53  5  6  6]\n"
     ]
    }
   ],
   "source": [
    "#slicing in 1D array\n",
    "import numpy as np\n",
    "arr=np.array([3,4,7,53,5,6,6])\n",
    "print(arr[1])\n",
    "print(arr[1:2])\n",
    "print(arr[:3])\n",
    "print(arr[1:])\n"
   ]
  },
  {
   "cell_type": "code",
   "execution_count": 6,
   "id": "86264372-5766-498d-ad30-984217729a42",
   "metadata": {},
   "outputs": [
    {
     "name": "stdout",
     "output_type": "stream",
     "text": [
      "5\n",
      "[[5 8]\n",
      " [4 8]]\n",
      "[7 5]\n"
     ]
    }
   ],
   "source": [
    "#slicing in 1D array\n",
    "x=np.array([[4,6,3],[7,5,8],[9,4,8]])\n",
    "print(x[1,1])\n",
    "print(x[1:3,1:3])\n",
    "print(x[1,0:2])"
   ]
  },
  {
   "cell_type": "code",
   "execution_count": null,
   "id": "92e2c432-b58b-4634-8528-814597d5f642",
   "metadata": {},
   "outputs": [],
   "source": []
  }
 ],
 "metadata": {
  "kernelspec": {
   "display_name": "Python 3 (ipykernel)",
   "language": "python",
   "name": "python3"
  },
  "language_info": {
   "codemirror_mode": {
    "name": "ipython",
    "version": 3
   },
   "file_extension": ".py",
   "mimetype": "text/x-python",
   "name": "python",
   "nbconvert_exporter": "python",
   "pygments_lexer": "ipython3",
   "version": "3.12.2"
  },
  "widgets": {
   "application/vnd.jupyter.widget-state+json": {
    "state": {},
    "version_major": 2,
    "version_minor": 0
   }
  }
 },
 "nbformat": 4,
 "nbformat_minor": 5
}
