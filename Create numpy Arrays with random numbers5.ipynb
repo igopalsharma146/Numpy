{
 "cells": [
  {
   "cell_type": "markdown",
   "id": "3bfeb56a-f0d5-43d4-a4ac-9707673cfda2",
   "metadata": {},
   "source": [
    "# Create numpy Arrays with random numbers\n"
   ]
  },
  {
   "cell_type": "markdown",
   "id": "69abd507-8ace-47bd-93d2-08e09f9a70d4",
   "metadata": {},
   "source": [
    "# Rand()"
   ]
  },
  {
   "cell_type": "code",
   "execution_count": 2,
   "id": "b37bc174-4a79-47ce-80d2-f42cfcfad00e",
   "metadata": {},
   "outputs": [
    {
     "name": "stdout",
     "output_type": "stream",
     "text": [
      "[0.2615145  0.95523347 0.45331593 0.29287945]\n"
     ]
    }
   ],
   "source": [
    "#rand function ki value 0 se 1 ke beech me hoti hai\n",
    "import numpy as np\n",
    "var=np.random.rand(4)\n",
    "print(var)"
   ]
  },
  {
   "cell_type": "code",
   "execution_count": 3,
   "id": "fd240d37-d912-4d7c-90f8-54d0a99e04f1",
   "metadata": {},
   "outputs": [
    {
     "name": "stdout",
     "output_type": "stream",
     "text": [
      "[[0.07757759 0.34861052 0.05554396 0.56063491]\n",
      " [0.36986845 0.46662919 0.50065723 0.27073717]\n",
      " [0.66334203 0.63847635 0.14443932 0.95269693]]\n"
     ]
    }
   ],
   "source": [
    "var1=np.random.rand(3,4)\n",
    "print(var1)"
   ]
  },
  {
   "cell_type": "markdown",
   "id": "a556717c-2878-483b-a1dd-534bf254a332",
   "metadata": {},
   "source": [
    "# Randn()"
   ]
  },
  {
   "cell_type": "code",
   "execution_count": 4,
   "id": "198ea254-7cf6-4cbd-bbf4-0a5d69c61c98",
   "metadata": {},
   "outputs": [
    {
     "name": "stdout",
     "output_type": "stream",
     "text": [
      "[-0.45128     0.07963972  1.18839742  0.18278734] \n",
      "\n",
      "[[0.81773728 0.8407512  0.62885961 0.69535818]\n",
      " [0.69454531 0.34004168 0.101362   0.4538513 ]\n",
      " [0.56067023 0.59746477 0.35086725 0.56117105]]\n"
     ]
    }
   ],
   "source": [
    "#rand function ki value -1 se 1 ke beech me hoti hai\n",
    "import numpy as np\n",
    "var2=np.random.randn(4)\n",
    "print(var2,\"\\n\")\n",
    "\n",
    "var1=np.random.rand(3,4)\n",
    "print(var1)"
   ]
  },
  {
   "cell_type": "markdown",
   "id": "5fea93fa-bd3c-4c9b-b7f8-e9cd3bf66a15",
   "metadata": {},
   "source": [
    "# Ranf()"
   ]
  },
  {
   "cell_type": "code",
   "execution_count": 10,
   "id": "188ee184-5795-43b4-a600-c17af2b5eb69",
   "metadata": {},
   "outputs": [
    {
     "name": "stdout",
     "output_type": "stream",
     "text": [
      "[0.64975589 0.81998163 0.25944462 0.91509411] \n",
      "\n",
      "[[0.16398868 0.03333432 0.24477888 0.41029902]\n",
      " [0.80330736 0.33387774 0.68540936 0.93869579]\n",
      " [0.23447114 0.04906905 0.71386237 0.41573644]]\n"
     ]
    }
   ],
   "source": [
    "var3=np.random.ranf(4)\n",
    "print(var3,\"\\n\")\n",
    "\n",
    "var4=np.random.ranf((3,4))\n",
    "print(var4)"
   ]
  },
  {
   "cell_type": "markdown",
   "id": "65048c53-f3b1-4076-a2f8-c8c8334d3db6",
   "metadata": {},
   "source": [
    "  # Randint()"
   ]
  },
  {
   "cell_type": "code",
   "execution_count": 16,
   "id": "dd000506-26fe-4442-9774-d67a754336e3",
   "metadata": {},
   "outputs": [
    {
     "name": "stdout",
     "output_type": "stream",
     "text": [
      "[17 13 14 17 15 16 15 14 17] \n",
      "\n",
      "[6 4 6 7 7 4 5 3 8 6]\n"
     ]
    }
   ],
   "source": [
    "var3=np.random.randint(11,19,10)\n",
    "print(var3,\"\\n\")\n",
    "\n",
    "var4=np.random.randint(3,9,10)\n",
    "print(var4)"
   ]
  },
  {
   "cell_type": "code",
   "execution_count": null,
   "id": "945435c4-f0f6-4051-b226-2201a061c484",
   "metadata": {},
   "outputs": [],
   "source": []
  }
 ],
 "metadata": {
  "kernelspec": {
   "display_name": "Python 3 (ipykernel)",
   "language": "python",
   "name": "python3"
  },
  "language_info": {
   "codemirror_mode": {
    "name": "ipython",
    "version": 3
   },
   "file_extension": ".py",
   "mimetype": "text/x-python",
   "name": "python",
   "nbconvert_exporter": "python",
   "pygments_lexer": "ipython3",
   "version": "3.12.2"
  },
  "widgets": {
   "application/vnd.jupyter.widget-state+json": {
    "state": {},
    "version_major": 2,
    "version_minor": 0
   }
  }
 },
 "nbformat": 4,
 "nbformat_minor": 5
}
