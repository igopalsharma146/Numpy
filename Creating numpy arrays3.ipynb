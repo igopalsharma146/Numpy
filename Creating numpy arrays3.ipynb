{
 "cells": [
  {
   "cell_type": "code",
   "execution_count": 1,
   "id": "9b96f369-4ef9-44dc-9e31-26605898650a",
   "metadata": {},
   "outputs": [
    {
     "name": "stdout",
     "output_type": "stream",
     "text": [
      "[2 3 4 5]\n"
     ]
    }
   ],
   "source": [
    "#creating numpy arrays\n",
    "import numpy as np\n",
    "a=np.array([2,3,4,5])\n",
    "print(a)"
   ]
  },
  {
   "cell_type": "code",
   "execution_count": 4,
   "id": "1cbbfdb4-d10e-42cf-af88-27ec59c07ad9",
   "metadata": {},
   "outputs": [
    {
     "name": "stdout",
     "output_type": "stream",
     "text": [
      "[4 5 7 4 7 3]\n",
      "<class 'numpy.ndarray'>\n"
     ]
    },
    {
     "data": {
      "text/plain": [
       "array([4, 5, 7, 4, 7, 3])"
      ]
     },
     "execution_count": 4,
     "metadata": {},
     "output_type": "execute_result"
    }
   ],
   "source": [
    "x=[4,5,7,4,7,3]\n",
    "y=np.array(x)\n",
    "print(y)\n",
    "print(type(y))\n",
    "y"
   ]
  },
  {
   "cell_type": "code",
   "execution_count": 6,
   "id": "a891e810-07ca-484f-8feb-da73e52e6662",
   "metadata": {},
   "outputs": [
    {
     "name": "stdin",
     "output_type": "stream",
     "text": [
      "enter no : 5\n",
      "enter no : 3\n",
      "enter no : 5\n",
      "enter no : 4\n"
     ]
    },
    {
     "name": "stdout",
     "output_type": "stream",
     "text": [
      "[5 3 5 4]\n"
     ]
    }
   ],
   "source": [
    "#creating array\n",
    "l=[]\n",
    "for i in range (1,5):\n",
    "    var=int(input(\"enter no :\"))\n",
    "    l.append(var)\n",
    "print(np.array(l))"
   ]
  },
  {
   "cell_type": "code",
   "execution_count": 7,
   "id": "6a33f61f-457d-44e8-a4c7-54e7eb638d3d",
   "metadata": {},
   "outputs": [
    {
     "name": "stdout",
     "output_type": "stream",
     "text": [
      "[2 3 4 5]\n",
      "1\n"
     ]
    }
   ],
   "source": [
    "                                                                #dimentional array\n",
    "#1-D array [2,3,4]\n",
    "#2-D array [[2,3,4]]\n",
    "#3-D array [[[2,3,4]]]\n",
    "#Higher dimentional array\n",
    "\n",
    "#1-D array [2,3,4]\n",
    "import numpy as np\n",
    "a=np.array([2,3,4,5])\n",
    "print(a)\n",
    "print(a.ndim)"
   ]
  },
  {
   "cell_type": "code",
   "execution_count": 12,
   "id": "78f861bc-7211-4e2d-a2d9-5056671ea308",
   "metadata": {},
   "outputs": [
    {
     "name": "stdout",
     "output_type": "stream",
     "text": [
      "[[1 2 3 4]\n",
      " [3 4 5 6]\n",
      " [3 4 5 8]]\n",
      "2\n"
     ]
    }
   ],
   "source": [
    "#2-D array [[2,3,4]]\n",
    "arr2=np.array([[1,2,3,4],[3,4,5,6],[3,4,5,8]])\n",
    "print(arr2)\n",
    "print(arr2.ndim)"
   ]
  },
  {
   "cell_type": "code",
   "execution_count": 13,
   "id": "06eaaaaf-50f8-47b4-8ffa-5a7036ac40c4",
   "metadata": {},
   "outputs": [
    {
     "name": "stdout",
     "output_type": "stream",
     "text": [
      "[[[1 2 3 4]\n",
      "  [3 4 5 6]\n",
      "  [3 4 5 8]]]\n",
      "3\n"
     ]
    }
   ],
   "source": [
    "#3-D array [[[2,3,4]]]\n",
    "arr3=np.array([[[1,2,3,4],[3,4,5,6],[3,4,5,8]]])\n",
    "print(arr3)\n",
    "print(arr3.ndim)"
   ]
  },
  {
   "cell_type": "code",
   "execution_count": 14,
   "id": "de803cef-09a7-4d74-aa03-205e1dcd3b5b",
   "metadata": {},
   "outputs": [
    {
     "name": "stdout",
     "output_type": "stream",
     "text": [
      "[[[[[[[1 2 3 4]]]]]]]\n",
      "7\n"
     ]
    }
   ],
   "source": [
    "#Higher dimentional array\n",
    "arn=np.array([1,2,3,4],ndmin=7)\n",
    "print(arn)\n",
    "print(arn.ndim)"
   ]
  },
  {
   "cell_type": "code",
   "execution_count": null,
   "id": "87773d3a-a143-4716-8eca-6d73922e95f0",
   "metadata": {},
   "outputs": [],
   "source": []
  }
 ],
 "metadata": {
  "kernelspec": {
   "display_name": "Python 3 (ipykernel)",
   "language": "python",
   "name": "python3"
  },
  "language_info": {
   "codemirror_mode": {
    "name": "ipython",
    "version": 3
   },
   "file_extension": ".py",
   "mimetype": "text/x-python",
   "name": "python",
   "nbconvert_exporter": "python",
   "pygments_lexer": "ipython3",
   "version": "3.12.2"
  }
 },
 "nbformat": 4,
 "nbformat_minor": 5
}
