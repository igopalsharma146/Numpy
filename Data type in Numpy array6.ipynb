{
 "cells": [
  {
   "cell_type": "markdown",
   "id": "5aa4763e-3692-44bf-ac50-cfde9279d583",
   "metadata": {},
   "source": [
    "# Data type in Numpy array"
   ]
  },
  {
   "cell_type": "code",
   "execution_count": 1,
   "id": "ff7da241-ce3b-41ab-bbcf-3e9f728f3e44",
   "metadata": {},
   "outputs": [
    {
     "name": "stdout",
     "output_type": "stream",
     "text": [
      "Data type : int32\n"
     ]
    }
   ],
   "source": [
    "import numpy as np\n",
    "var=np.array([1,2,3,4,5])\n",
    "print(\"Data type :\",var.dtype)"
   ]
  },
  {
   "cell_type": "code",
   "execution_count": 2,
   "id": "2c22234e-2e5a-48c1-9098-a9a71b1a139a",
   "metadata": {},
   "outputs": [
    {
     "name": "stdout",
     "output_type": "stream",
     "text": [
      "Data type : float64\n"
     ]
    }
   ],
   "source": [
    "var=np.array([1.3,2.5,3.2,4.1,5.3])\n",
    "print(\"Data type :\",var.dtype)"
   ]
  },
  {
   "cell_type": "code",
   "execution_count": 3,
   "id": "06819b7b-912a-4e83-8835-1307a022010f",
   "metadata": {},
   "outputs": [
    {
     "name": "stdout",
     "output_type": "stream",
     "text": [
      "Data type : <U1\n"
     ]
    }
   ],
   "source": [
    "var=np.array([\"a\",\"b\",\"c\",\"d\",\"e\"])\n",
    "print(\"Data type :\",var.dtype)"
   ]
  },
  {
   "cell_type": "code",
   "execution_count": 6,
   "id": "ca1ede0c-6d5f-430c-a11d-95930e31f554",
   "metadata": {},
   "outputs": [
    {
     "name": "stdout",
     "output_type": "stream",
     "text": [
      "Data type : <U11\n",
      "Data type : <U32\n"
     ]
    }
   ],
   "source": [
    "#if we are give the numbers or string in array .then hamara data type bhi change ho jata hai\n",
    "var=np.array([\"a\",\"b\",\"c\",1,2,3])\n",
    "print(\"Data type :\",var.dtype)\n",
    "\n",
    "var=np.array([\"a\",\"b\",\"c\",1,2,3.2])\n",
    "print(\"Data type :\",var.dtype)"
   ]
  },
  {
   "cell_type": "code",
   "execution_count": 9,
   "id": "72f72ca7-43d4-4705-865d-25b2040b465e",
   "metadata": {},
   "outputs": [
    {
     "name": "stdout",
     "output_type": "stream",
     "text": [
      "Data type : int8\n",
      "[2 4 6 5]\n"
     ]
    }
   ],
   "source": [
    "#changing the data type\n",
    "arr=[2,4,6,5]\n",
    "x=np.array(arr,dtype=np.int8)\n",
    "print(\"Data type :\",x.dtype)\n",
    "print(x)"
   ]
  },
  {
   "cell_type": "code",
   "execution_count": 10,
   "id": "7932c051-c948-4837-b4e6-248db66d863a",
   "metadata": {},
   "outputs": [
    {
     "name": "stdout",
     "output_type": "stream",
     "text": [
      "Data type : float32\n",
      "[2. 4. 6. 5.]\n"
     ]
    }
   ],
   "source": [
    "#Another way of changing data type\n",
    "arr=[2,4,6,5]\n",
    "x=np.array(arr,dtype=\"f\")\n",
    "print(\"Data type :\",x.dtype)\n",
    "print(x)"
   ]
  },
  {
   "cell_type": "code",
   "execution_count": 14,
   "id": "7431555e-b361-439b-af4d-5bce942d58e9",
   "metadata": {},
   "outputs": [
    {
     "name": "stdout",
     "output_type": "stream",
     "text": [
      "Data type : int32\n",
      "[2 3 4]\n",
      "Data type : float32\n",
      "[2. 3. 4.]\n"
     ]
    }
   ],
   "source": [
    "#changing data type through function\n",
    "x1=np.array([2,3,4])\n",
    "print(\"Data type :\",x1.dtype)\n",
    "print(x1)\n",
    "\n",
    "new=np.float32(x1)\n",
    "print(\"Data type :\",new.dtype)\n",
    "print(new)"
   ]
  },
  {
   "cell_type": "code",
   "execution_count": 15,
   "id": "583ba7a9-604f-439e-9552-56b91167c6e4",
   "metadata": {},
   "outputs": [
    {
     "name": "stdout",
     "output_type": "stream",
     "text": [
      "Data type : int32\n",
      "[2 3 4]\n",
      "Data type : float32\n",
      "[2. 3. 4.]\n",
      "Data type : int32\n",
      "[2 3 4]\n"
     ]
    }
   ],
   "source": [
    "#changing data type through function\n",
    "x1=np.array([2,3,4])\n",
    "print(\"Data type :\",x1.dtype)\n",
    "print(x1)\n",
    "\n",
    "new=np.float32(x1)\n",
    "print(\"Data type :\",new.dtype)\n",
    "print(new)\n",
    "\n",
    "new1=np.int_(new)\n",
    "print(\"Data type :\",new1.dtype)\n",
    "print(new1)"
   ]
  },
  {
   "cell_type": "code",
   "execution_count": 16,
   "id": "cee7d6fe-a52f-40cd-bb74-bf7d1e24577c",
   "metadata": {},
   "outputs": [
    {
     "name": "stdout",
     "output_type": "stream",
     "text": [
      "[2 3 4]\n",
      "[2. 3. 4.]\n"
     ]
    }
   ],
   "source": [
    "x3=np.array([2,3,4])\n",
    "new2=x3.astype(float)\n",
    "print(x3)\n",
    "print(new2)"
   ]
  }
 ],
 "metadata": {
  "kernelspec": {
   "display_name": "Python 3 (ipykernel)",
   "language": "python",
   "name": "python3"
  },
  "language_info": {
   "codemirror_mode": {
    "name": "ipython",
    "version": 3
   },
   "file_extension": ".py",
   "mimetype": "text/x-python",
   "name": "python",
   "nbconvert_exporter": "python",
   "pygments_lexer": "ipython3",
   "version": "3.12.2"
  },
  "widgets": {
   "application/vnd.jupyter.widget-state+json": {
    "state": {},
    "version_major": 2,
    "version_minor": 0
   }
  }
 },
 "nbformat": 4,
 "nbformat_minor": 5
}
