{
 "cells": [
  {
   "cell_type": "markdown",
   "id": "2566540f-ab31-4f78-b5f0-c8d0169265b8",
   "metadata": {},
   "source": [
    "Indexing And Slicing in numpy Array"
   ]
  },
  {
   "cell_type": "code",
   "execution_count": 1,
   "id": "0e3c8e5f-2a75-4460-b693-6120a639f24c",
   "metadata": {},
   "outputs": [
    {
     "name": "stdout",
     "output_type": "stream",
     "text": [
      "4\n",
      "8\n"
     ]
    }
   ],
   "source": [
    "#indexing numpy Array\n",
    "import numpy as np\n",
    "var=np.array([3,4,8,5,4])\n",
    "print(var[1])\n",
    "print(var[-3])"
   ]
  },
  {
   "cell_type": "code",
   "execution_count": 6,
   "id": "b7b960a4-61b9-4bbe-bb9b-978822793b04",
   "metadata": {},
   "outputs": [
    {
     "name": "stdout",
     "output_type": "stream",
     "text": [
      "[[7 8 9]\n",
      " [2 3 4]]\n",
      "2\n",
      "\n",
      "4\n"
     ]
    }
   ],
   "source": [
    "var1=np.array([[7,8,9],[2,3,4]])\n",
    "print(var1)\n",
    "print(var1.ndim)\n",
    "print()\n",
    "\n",
    "# print(var1[1][2])\n",
    "print(var1[1,2])"
   ]
  },
  {
   "cell_type": "code",
   "execution_count": 8,
   "id": "d997c28a-0f1b-4ec8-a890-689fc1fb84b7",
   "metadata": {},
   "outputs": [
    {
     "name": "stdout",
     "output_type": "stream",
     "text": [
      "[[[1 2]\n",
      "  [1 2]]]\n",
      "3\n",
      "\n",
      "2\n"
     ]
    }
   ],
   "source": [
    "var2=np.array([[[1,2],[1,2]]])\n",
    "print(var2)\n",
    "print(var2.ndim)\n",
    "print()\n",
    "print(var2[0,1,1])"
   ]
  },
  {
   "cell_type": "code",
   "execution_count": null,
   "id": "420a1978-3a66-41e3-b8fc-09f3627ea2d9",
   "metadata": {},
   "outputs": [],
   "source": []
  },
  {
   "cell_type": "markdown",
   "id": "38621c23-0492-4479-ad49-bb6fa38ee2b5",
   "metadata": {},
   "source": [
    "Slicing numpy array"
   ]
  },
  {
   "cell_type": "code",
   "execution_count": 16,
   "id": "3d0b69b4-0af9-42c9-86b3-95ed0fee25f0",
   "metadata": {},
   "outputs": [
    {
     "name": "stdout",
     "output_type": "stream",
     "text": [
      "[3 4 8 5 4] \n",
      "\n",
      "2 to 5 : [2 3 4 5]\n",
      "2 to end : [2 3 4 5 6 7 8 9]\n",
      "start to 5 : [1 2 3 4 5]\n"
     ]
    }
   ],
   "source": [
    "#slicing in one dimension array\n",
    "import numpy as np\n",
    "x=np.array([1,2,3,4,5,6,7,8,9])\n",
    "print(var,\"\\n\")\n",
    "print(\"2 to 5 :\",x[1:5])\n",
    "print(\"2 to end :\",x[1:])\n",
    "print(\"start to 5 :\",x[:5])"
   ]
  },
  {
   "cell_type": "code",
   "execution_count": 17,
   "id": "c522ee8f-793c-4fdd-b582-67c6bba35502",
   "metadata": {},
   "outputs": [
    {
     "name": "stdout",
     "output_type": "stream",
     "text": [
      "[3 4 8 5 4] \n",
      "\n",
      "2 to 5 : [2 3 4 5]\n",
      "2 to end : [2 3 4 5 6 7 8 9]\n",
      "start to 5 : [1 2 3 4 5]\n",
      "Stop : [1 3 5 7 9]\n",
      "Stop : [2 4]\n",
      "Stop : [2 4 6]\n"
     ]
    }
   ],
   "source": [
    "import numpy as np\n",
    "x=np.array([1,2,3,4,5,6,7,8,9])\n",
    "print(var,\"\\n\")\n",
    "print(\"2 to 5 :\",x[1:5])\n",
    "print(\"2 to end :\",x[1:])\n",
    "print(\"start to 5 :\",x[:5])\n",
    "\n",
    "print(\"Stop :\",x[::2])\n",
    "print(\"Stop :\",x[1:5:2])\n",
    "print(\"Stop :\",x[1:6:2])"
   ]
  },
  {
   "cell_type": "code",
   "execution_count": 18,
   "id": "eba17cd1-65a3-4e2c-b323-cce73286cb19",
   "metadata": {},
   "outputs": [
    {
     "name": "stdout",
     "output_type": "stream",
     "text": [
      "[[7 8 9]\n",
      " [2 3 4]] \n",
      "\n",
      "8 to 5 :  [8 7 6 5]\n",
      "12 to 15 :  [12 13 14 15]\n"
     ]
    }
   ],
   "source": [
    "#slicing in two dimension array\n",
    "y1=np.array([[1,2,3,4,5],[9,8,7,6,5],[11,12,13,14,15]])\n",
    "print(var1,\"\\n\")\n",
    "print(\"8 to 5 : \",y1[1,1:])\n",
    "print(\"12 to 15 : \",y1[2,1:])\n"
   ]
  },
  {
   "cell_type": "code",
   "execution_count": null,
   "id": "f6690be0-9a00-4cf3-a9c2-fec501bdf4fa",
   "metadata": {},
   "outputs": [],
   "source": []
  }
 ],
 "metadata": {
  "kernelspec": {
   "display_name": "Python 3 (ipykernel)",
   "language": "python",
   "name": "python3"
  },
  "language_info": {
   "codemirror_mode": {
    "name": "ipython",
    "version": 3
   },
   "file_extension": ".py",
   "mimetype": "text/x-python",
   "name": "python",
   "nbconvert_exporter": "python",
   "pygments_lexer": "ipython3",
   "version": "3.12.2"
  }
 },
 "nbformat": 4,
 "nbformat_minor": 5
}
