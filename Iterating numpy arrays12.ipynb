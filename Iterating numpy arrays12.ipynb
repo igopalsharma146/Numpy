{
 "cells": [
  {
   "cell_type": "markdown",
   "id": "69b4c935-4c0c-4e18-8b64-d51edf7472d7",
   "metadata": {},
   "source": [
    "Iterating numpy arrays"
   ]
  },
  {
   "cell_type": "code",
   "execution_count": 1,
   "id": "4c8c64c1-f672-4c5e-8080-080da9c5d01e",
   "metadata": {},
   "outputs": [
    {
     "name": "stdout",
     "output_type": "stream",
     "text": [
      "[2 3 5 7 6 1] \n",
      "\n",
      "2\n",
      "3\n",
      "5\n",
      "7\n",
      "6\n",
      "1\n"
     ]
    }
   ],
   "source": [
    "# Iterating numpy arrays\n",
    "import numpy as np\n",
    "var=np.array([2,3,5,7,6,1])\n",
    "print(var,\"\\n\")\n",
    "for i in var:\n",
    "    print(i)"
   ]
  },
  {
   "cell_type": "code",
   "execution_count": 6,
   "id": "781c15a0-c6f9-4da1-8528-252262e600c7",
   "metadata": {},
   "outputs": [
    {
     "name": "stdout",
     "output_type": "stream",
     "text": [
      "[[2 3 5 7]\n",
      " [4 5 6 7]\n",
      " [5 3 6 7]] \n",
      "\n",
      "[2 3 5 7]\n",
      "[4 5 6 7]\n",
      "[5 3 6 7]\n",
      "\n",
      "\n",
      "2\n",
      "3\n",
      "5\n",
      "7\n",
      "4\n",
      "5\n",
      "6\n",
      "7\n",
      "5\n",
      "3\n",
      "6\n",
      "7\n"
     ]
    }
   ],
   "source": [
    "#Two dimention array\n",
    "var1=np.array([[2,3,5,7],[4,5,6,7],[5,3,6,7]])\n",
    "print(var,\"\\n\")\n",
    "for i in var1:\n",
    "    print(i)\n",
    "print(\"\\n\")\n",
    "#iterating all the elements\n",
    "for i in var1:\n",
    "    for j in i:\n",
    "        print(j)"
   ]
  },
  {
   "cell_type": "code",
   "execution_count": 8,
   "id": "3050c555-6bdf-4c22-8af9-71a06004ba7a",
   "metadata": {},
   "outputs": [
    {
     "name": "stdout",
     "output_type": "stream",
     "text": [
      "[[[1 2 3]\n",
      "  [4 5 6]\n",
      "  [7 8 9]]\n",
      "\n",
      " [[3 4 5]\n",
      "  [5 7 4]\n",
      "  [2 7 5]]]\n",
      "1\n",
      "2\n",
      "3\n",
      "4\n",
      "5\n",
      "6\n",
      "7\n",
      "8\n",
      "9\n",
      "3\n",
      "4\n",
      "5\n",
      "5\n",
      "7\n",
      "4\n",
      "2\n",
      "7\n",
      "5\n"
     ]
    }
   ],
   "source": [
    "#three dimension array\n",
    "var3=np.array([[[1,2,3],[4,5,6],[7,8,9]],[[3,4,5],[5,7,4],[2,7,5]]])\n",
    "print(var3)\n",
    "\n",
    "#iterating \n",
    "for i in var3:\n",
    "    for j in i:\n",
    "        for k in j:\n",
    "            print(k)"
   ]
  },
  {
   "cell_type": "code",
   "execution_count": 9,
   "id": "b4be7d5c-bf06-444d-877f-6760f589128b",
   "metadata": {},
   "outputs": [
    {
     "name": "stdout",
     "output_type": "stream",
     "text": [
      "[[[1 2 3]\n",
      "  [4 5 6]\n",
      "  [7 8 9]]\n",
      "\n",
      " [[3 4 5]\n",
      "  [5 7 4]\n",
      "  [2 7 5]]]\n",
      "1\n",
      "2\n",
      "3\n",
      "4\n",
      "5\n",
      "6\n",
      "7\n",
      "8\n",
      "9\n",
      "3\n",
      "4\n",
      "5\n",
      "5\n",
      "7\n",
      "4\n",
      "2\n",
      "7\n",
      "5\n"
     ]
    }
   ],
   "source": [
    "# iteration using without looping , using the function(nditer)\n",
    "\n",
    "#three dimension array\n",
    "var3=np.array([[[1,2,3],[4,5,6],[7,8,9]],[[3,4,5],[5,7,4],[2,7,5]]])\n",
    "print(var3)\n",
    "\n",
    "#iterating \n",
    "for i in np.nditer(var3):\n",
    "    print(i)"
   ]
  },
  {
   "cell_type": "code",
   "execution_count": 14,
   "id": "cd6c3a78-1d2c-43af-8962-f84ef0fdfbdd",
   "metadata": {},
   "outputs": [
    {
     "name": "stdout",
     "output_type": "stream",
     "text": [
      "[[[1 2 3]\n",
      "  [4 5 6]\n",
      "  [7 8 9]]\n",
      "\n",
      " [[3 4 5]\n",
      "  [5 7 4]\n",
      "  [2 7 5]]]\n",
      "b'1'\n",
      "b'2'\n",
      "b'3'\n",
      "b'4'\n",
      "b'5'\n",
      "b'6'\n",
      "b'7'\n",
      "b'8'\n",
      "b'9'\n",
      "b'3'\n",
      "b'4'\n",
      "b'5'\n",
      "b'5'\n",
      "b'7'\n",
      "b'4'\n",
      "b'2'\n",
      "b'7'\n",
      "b'5'\n"
     ]
    }
   ],
   "source": [
    "# iteration using without looping , using the function(nditer)\n",
    "\n",
    "#three dimension array\n",
    "var3=np.array([[[1,2,3],[4,5,6],[7,8,9]],[[3,4,5],[5,7,4],[2,7,5]]])\n",
    "print(var3)\n",
    "\n",
    "#changing the datatype\n",
    "for i in np.nditer(var3,flags=['buffered'],op_dtypes=[\"S\"]):\n",
    "    print(i)"
   ]
  },
  {
   "cell_type": "code",
   "execution_count": 15,
   "id": "ec241262-3249-483b-ac5d-ba8accf61688",
   "metadata": {},
   "outputs": [
    {
     "name": "stdout",
     "output_type": "stream",
     "text": [
      "[[[1 2 3]\n",
      "  [4 5 6]\n",
      "  [7 8 9]]\n",
      "\n",
      " [[3 4 5]\n",
      "  [5 7 4]\n",
      "  [2 7 5]]]\n",
      "((0, 0, 0), 1)\n",
      "((0, 0, 1), 2)\n",
      "((0, 0, 2), 3)\n",
      "((0, 1, 0), 4)\n",
      "((0, 1, 1), 5)\n",
      "((0, 1, 2), 6)\n",
      "((0, 2, 0), 7)\n",
      "((0, 2, 1), 8)\n",
      "((0, 2, 2), 9)\n",
      "((1, 0, 0), 3)\n",
      "((1, 0, 1), 4)\n",
      "((1, 0, 2), 5)\n",
      "((1, 1, 0), 5)\n",
      "((1, 1, 1), 7)\n",
      "((1, 1, 2), 4)\n",
      "((1, 2, 0), 2)\n",
      "((1, 2, 1), 7)\n",
      "((1, 2, 2), 5)\n"
     ]
    }
   ],
   "source": [
    "# iteration using without looping , using the function(nditer)\n",
    "\n",
    "#three dimension array\n",
    "var3=np.array([[[1,2,3],[4,5,6],[7,8,9]],[[3,4,5],[5,7,4],[2,7,5]]])\n",
    "print(var3)\n",
    "\n",
    "#iterating and printing indexing\n",
    "for i in np.ndenumerate(var3):\n",
    "    print(i)"
   ]
  },
  {
   "cell_type": "code",
   "execution_count": null,
   "id": "9a08bde5-ace1-46b9-bdec-02add0ee49e3",
   "metadata": {},
   "outputs": [],
   "source": []
  }
 ],
 "metadata": {
  "kernelspec": {
   "display_name": "Python 3 (ipykernel)",
   "language": "python",
   "name": "python3"
  },
  "language_info": {
   "codemirror_mode": {
    "name": "ipython",
    "version": 3
   },
   "file_extension": ".py",
   "mimetype": "text/x-python",
   "name": "python",
   "nbconvert_exporter": "python",
   "pygments_lexer": "ipython3",
   "version": "3.12.2"
  },
  "widgets": {
   "application/vnd.jupyter.widget-state+json": {
    "state": {},
    "version_major": 2,
    "version_minor": 0
   }
  }
 },
 "nbformat": 4,
 "nbformat_minor": 5
}
