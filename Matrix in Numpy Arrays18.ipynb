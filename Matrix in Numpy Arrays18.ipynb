{
 "cells": [
  {
   "cell_type": "markdown",
   "id": "7b5ca723-67b7-454c-933b-2314bca321fe",
   "metadata": {},
   "source": [
    "# Matrix in Numpy Arrays"
   ]
  },
  {
   "cell_type": "code",
   "execution_count": 7,
   "id": "13fd7884-21f2-44fb-9bd6-6a9419002aa1",
   "metadata": {},
   "outputs": [
    {
     "name": "stdout",
     "output_type": "stream",
     "text": [
      "[[1 2 3]\n",
      " [4 5 6]]\n",
      "<class 'numpy.ndarray'>\n"
     ]
    }
   ],
   "source": [
    "#array\n",
    "import numpy as np\n",
    "var=np.array([[1,2,3],[4,5,6]])\n",
    "print(var)\n",
    "print(type(var))"
   ]
  },
  {
   "cell_type": "code",
   "execution_count": 6,
   "id": "82983779-f9ae-438d-bbd4-50c93c1d1bcd",
   "metadata": {},
   "outputs": [
    {
     "name": "stdout",
     "output_type": "stream",
     "text": [
      "[[1 2 3]\n",
      " [4 5 6]]\n",
      "<class 'numpy.matrix'>\n"
     ]
    }
   ],
   "source": [
    "#matrix\n",
    "import numpy as np\n",
    "var1=np.matrix([[1,2,3],[4,5,6]])\n",
    "print(var)\n",
    "print(type(var1))"
   ]
  },
  {
   "cell_type": "markdown",
   "id": "09ecc1e5-7235-4a3f-b222-5988bd5aada0",
   "metadata": {},
   "source": [
    "# Arithmetic operation in matrix"
   ]
  },
  {
   "cell_type": "code",
   "execution_count": 11,
   "id": "183017c8-db03-4b74-b43f-abc4f32b7468",
   "metadata": {},
   "outputs": [
    {
     "name": "stdout",
     "output_type": "stream",
     "text": [
      "[[1 2 3]\n",
      " [4 5 6]] \n",
      "\n",
      "[[2 3 4]\n",
      " [5 6 7]] \n",
      "\n",
      "Addition :\n",
      " [[ 3  5  7]\n",
      " [ 9 11 13]]\n"
     ]
    }
   ],
   "source": [
    "#matrix addition\n",
    "import numpy as np\n",
    "var1=np.matrix([[1,2,3],[4,5,6]])\n",
    "var2=np.matrix([[2,3,4],[5,6,7]])\n",
    "\n",
    "print(var1,\"\\n\")\n",
    "print(var2,\"\\n\")\n",
    "\n",
    "print(\"Addition :\\n\",var1+var2)\n"
   ]
  },
  {
   "cell_type": "code",
   "execution_count": 13,
   "id": "8fc77613-16fc-42f2-af61-38dfddc80576",
   "metadata": {},
   "outputs": [
    {
     "name": "stdout",
     "output_type": "stream",
     "text": [
      "[[1 2]\n",
      " [4 5]] \n",
      "\n",
      "[[2 3]\n",
      " [5 6]] \n",
      "\n",
      "multiplication :\n",
      " [[12 15]\n",
      " [33 42]]\n",
      "multiplication :\n",
      " [[12 15]\n",
      " [33 42]]\n"
     ]
    }
   ],
   "source": [
    "#matrix multiplication\n",
    "import numpy as np\n",
    "var1=np.matrix([[1,2],[4,5]])\n",
    "var2=np.matrix([[2,3],[5,6]])\n",
    "\n",
    "print(var1,\"\\n\")\n",
    "print(var2,\"\\n\")\n",
    "\n",
    "print(\"multiplication :\\n\",var1*var2)\n",
    "print(\"multiplication :\\n\",var1.dot(var2))"
   ]
  },
  {
   "cell_type": "markdown",
   "id": "b18d8e2c-2df7-4d5a-a74a-7225ba5d6247",
   "metadata": {},
   "source": [
    "# Matrix Functions in Numpy Arrays"
   ]
  },
  {
   "cell_type": "code",
   "execution_count": 14,
   "id": "fcdf8193-b12f-46d7-bab8-5d57b06d3810",
   "metadata": {},
   "outputs": [
    {
     "name": "stdout",
     "output_type": "stream",
     "text": [
      "[[1 2 3]\n",
      " [4 5 6]]\n"
     ]
    }
   ],
   "source": [
    "import numpy as np\n",
    "var=np.matrix([[1,2,3],[4,5,6]])\n",
    "print(var)\n"
   ]
  },
  {
   "cell_type": "code",
   "execution_count": 21,
   "id": "c5767f61-f054-487e-8d02-4e01d9ff7375",
   "metadata": {},
   "outputs": [
    {
     "name": "stdout",
     "output_type": "stream",
     "text": [
      "[[1 2 3]\n",
      " [4 5 6]]\n",
      "[[1 4]\n",
      " [2 5]\n",
      " [3 6]] \n",
      "\n",
      "[[1 4]\n",
      " [2 5]\n",
      " [3 6]] \n",
      "\n"
     ]
    }
   ],
   "source": [
    "# Transpose\n",
    "import numpy as np\n",
    "var=np.matrix([[1,2,3],[4,5,6]])\n",
    "print(var)\n",
    "print(np.transpose(var),\"\\n\")\n",
    "print(var.T,\"\\n\")"
   ]
  },
  {
   "cell_type": "code",
   "execution_count": 24,
   "id": "9a5f2ce0-ba7a-4f67-944e-d98692d21204",
   "metadata": {},
   "outputs": [
    {
     "name": "stdout",
     "output_type": "stream",
     "text": [
      "[[1 2 3]\n",
      " [4 5 6]]\n",
      "[[1 4]\n",
      " [2 5]\n",
      " [3 6]] \n",
      "\n",
      "[[1 4]\n",
      " [2 5]\n",
      " [3 6]] \n",
      "\n"
     ]
    }
   ],
   "source": [
    "# Swapaxes\n",
    "import numpy as np\n",
    "var=np.matrix([[1,2,3],[4,5,6]])\n",
    "print(var)\n",
    "print(np.swapaxes(var,0,1),\"\\n\")\n",
    "print(var.T,\"\\n\")"
   ]
  },
  {
   "cell_type": "code",
   "execution_count": 1,
   "id": "3e0a170a-218c-4b92-b49d-7f1f0636f13b",
   "metadata": {},
   "outputs": [
    {
     "name": "stdout",
     "output_type": "stream",
     "text": [
      "[[1 2 3]\n",
      " [4 5 6]]\n",
      "[[1 4]\n",
      " [2 5]\n",
      " [3 6]] \n",
      "\n"
     ]
    }
   ],
   "source": [
    "# Swapaxes\n",
    "import numpy as np\n",
    "var=np.matrix([[1,2,3],[4,5,6]])\n",
    "print(var)\n",
    "print(np.swapaxes(var,1,0),\"\\n\")"
   ]
  },
  {
   "cell_type": "code",
   "execution_count": 29,
   "id": "817a28b8-fa66-44ec-9e5c-0b5dc91d1799",
   "metadata": {},
   "outputs": [
    {
     "name": "stdout",
     "output_type": "stream",
     "text": [
      "[[1 2]\n",
      " [4 5]]\n",
      "[[1 4]\n",
      " [2 5]] \n",
      "\n"
     ]
    }
   ],
   "source": [
    "# Swapaxes\n",
    "import numpy as np\n",
    "var1=np.matrix([[1,2],[4,5]])\n",
    "print(var1)\n",
    "print(np.swapaxes(var1,0,1),\"\\n\")\n"
   ]
  },
  {
   "cell_type": "code",
   "execution_count": 2,
   "id": "62af107c-ea3a-42f1-aa8f-2b35f06953c8",
   "metadata": {},
   "outputs": [
    {
     "name": "stdout",
     "output_type": "stream",
     "text": [
      "[[1 2]\n",
      " [3 4]]\n",
      "[[-2.   1. ]\n",
      " [ 1.5 -0.5]] \n",
      "\n"
     ]
    }
   ],
   "source": [
    "# Swapaxes\n",
    "import numpy as np\n",
    "var1=np.matrix([[1,2],[3,4]])\n",
    "print(var1)\n",
    "print(np.linalg.inv(var1),\"\\n\")\n"
   ]
  },
  {
   "cell_type": "code",
   "execution_count": 11,
   "id": "a07add43-58dc-4a42-83fa-4aa569b1c3c1",
   "metadata": {},
   "outputs": [
    {
     "name": "stdout",
     "output_type": "stream",
     "text": [
      "[[1 2]\n",
      " [3 4]]\n",
      "[[ 7 10]\n",
      " [15 22]] \n",
      "\n",
      "[[1 0]\n",
      " [0 1]] \n",
      "\n",
      "[[ 5.5  -2.5 ]\n",
      " [-3.75  1.75]] \n",
      "\n"
     ]
    }
   ],
   "source": [
    "#Power of metrix\n",
    "\n",
    "#n=0 (Identity metrix)\n",
    "#n>0 (Power(mult))\n",
    "#n<0 (Inverse*power)\n",
    "\n",
    "import numpy as np\n",
    "var2=np.matrix([[1,2],[3,4]])\n",
    "print(var2)\n",
    "print(np.linalg.matrix_power(var2,2),\"\\n\")\n",
    "print(np.linalg.matrix_power(var2,0),\"\\n\")\n",
    "print(np.linalg.matrix_power(var2,-2),\"\\n\")"
   ]
  },
  {
   "cell_type": "code",
   "execution_count": 8,
   "id": "4faa7052-abce-4765-88c9-d2a22f04e30d",
   "metadata": {},
   "outputs": [
    {
     "name": "stdout",
     "output_type": "stream",
     "text": [
      "[[1 2 3]\n",
      " [2 3 4]\n",
      " [1 2 3]]\n",
      "0.0 \n",
      "\n"
     ]
    }
   ],
   "source": [
    "# Determinant of matrix\n",
    "import numpy as np\n",
    "var3=np.matrix([[1,2,3],[2,3,4],[1,2,3]])\n",
    "print(var3)\n",
    "print(np.linalg.det(var3),\"\\n\")"
   ]
  },
  {
   "cell_type": "code",
   "execution_count": 10,
   "id": "1fa4aadf-4afa-4350-b3b0-cef545f0da37",
   "metadata": {},
   "outputs": [
    {
     "name": "stdout",
     "output_type": "stream",
     "text": [
      "[[4 5 8]\n",
      " [2 3 4]\n",
      " [1 2 3]]\n",
      "2.0000000000000004 \n",
      "\n"
     ]
    }
   ],
   "source": [
    "# Determinant of matrix\n",
    "import numpy as np\n",
    "var3=np.matrix([[4,5,8],[2,3,4],[1,2,3]])\n",
    "print(var3)\n",
    "print(np.linalg.det(var3),\"\\n\")"
   ]
  },
  {
   "cell_type": "code",
   "execution_count": null,
   "id": "6e8baead-070c-46b9-9ca2-cfd31dd19a70",
   "metadata": {},
   "outputs": [],
   "source": []
  }
 ],
 "metadata": {
  "kernelspec": {
   "display_name": "Python 3 (ipykernel)",
   "language": "python",
   "name": "python3"
  },
  "language_info": {
   "codemirror_mode": {
    "name": "ipython",
    "version": 3
   },
   "file_extension": ".py",
   "mimetype": "text/x-python",
   "name": "python",
   "nbconvert_exporter": "python",
   "pygments_lexer": "ipython3",
   "version": "3.12.2"
  },
  "widgets": {
   "application/vnd.jupyter.widget-state+json": {
    "state": {},
    "version_major": 2,
    "version_minor": 0
   }
  }
 },
 "nbformat": 4,
 "nbformat_minor": 5
}
